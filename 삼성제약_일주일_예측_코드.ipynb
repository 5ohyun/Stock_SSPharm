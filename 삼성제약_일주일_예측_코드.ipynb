{
  "nbformat": 4,
  "nbformat_minor": 0,
  "metadata": {
    "kernelspec": {
      "display_name": "Python 3",
      "language": "python",
      "name": "python3"
    },
    "language_info": {
      "codemirror_mode": {
        "name": "ipython",
        "version": 3
      },
      "file_extension": ".py",
      "mimetype": "text/x-python",
      "name": "python",
      "nbconvert_exporter": "python",
      "pygments_lexer": "ipython3",
      "version": "3.7.3"
    },
    "colab": {
      "name": "삼성제약 일주일 예측 코드.ipynb",
      "provenance": [],
      "collapsed_sections": [],
      "include_colab_link": true
    }
  },
  "cells": [
    {
      "cell_type": "markdown",
      "metadata": {
        "id": "view-in-github",
        "colab_type": "text"
      },
      "source": [
        "<a href=\"https://colab.research.google.com/github/5ohyun/Stock_SSPharm/blob/main/%EC%82%BC%EC%84%B1%EC%A0%9C%EC%95%BD_%EC%9D%BC%EC%A3%BC%EC%9D%BC_%EC%98%88%EC%B8%A1_%EC%BD%94%EB%93%9C.ipynb\" target=\"_parent\"><img src=\"https://colab.research.google.com/assets/colab-badge.svg\" alt=\"Open In Colab\"/></a>"
      ]
    },
    {
      "cell_type": "markdown",
      "metadata": {
        "id": "-vcP9yMitbb-"
      },
      "source": [
        " # 1. 전처리 작업"
      ]
    },
    {
      "cell_type": "markdown",
      "metadata": {
        "id": "aiO5y8Zny_vo"
      },
      "source": [
        "## (1) 데이터 병합\n",
        "\n",
        "주식, 공매도, 배당, 금 가격, 코스피, 환율 데이터를 각 날짜 기준으로 병합(merge)"
      ]
    },
    {
      "cell_type": "markdown",
      "metadata": {
        "id": "bYdac0_Gta9t"
      },
      "source": [
        ""
      ]
    },
    {
      "cell_type": "code",
      "metadata": {
        "colab": {
          "base_uri": "https://localhost:8080/"
        },
        "id": "LdMHBg6YzIDT",
        "outputId": "88d4e07f-3543-46d7-d638-b04571d400c7"
      },
      "source": [
        "from google.colab import drive\n",
        "drive.mount('/content/drive')"
      ],
      "execution_count": 1,
      "outputs": [
        {
          "output_type": "stream",
          "text": [
            "Drive already mounted at /content/drive; to attempt to forcibly remount, call drive.mount(\"/content/drive\", force_remount=True).\n"
          ],
          "name": "stdout"
        }
      ]
    },
    {
      "cell_type": "code",
      "metadata": {
        "colab": {
          "base_uri": "https://localhost:8080/"
        },
        "id": "DskFnWMvFC8Y",
        "outputId": "95e29144-3749-45d7-8f2c-19807e10b01b"
      },
      "source": [
        "!sudo apt-get install -y fonts-nanum\n",
        "!sudo fc-cache -fv\n",
        "!rm ~/.cache/matplotlib -rf\n",
        "!pip install optuna"
      ],
      "execution_count": 2,
      "outputs": [
        {
          "output_type": "stream",
          "text": [
            "Reading package lists... Done\n",
            "Building dependency tree       \n",
            "Reading state information... Done\n",
            "fonts-nanum is already the newest version (20170925-1).\n",
            "0 upgraded, 0 newly installed, 0 to remove and 40 not upgraded.\n",
            "/usr/share/fonts: caching, new cache contents: 0 fonts, 1 dirs\n",
            "/usr/share/fonts/truetype: caching, new cache contents: 0 fonts, 3 dirs\n",
            "/usr/share/fonts/truetype/humor-sans: caching, new cache contents: 1 fonts, 0 dirs\n",
            "/usr/share/fonts/truetype/liberation: caching, new cache contents: 16 fonts, 0 dirs\n",
            "/usr/share/fonts/truetype/nanum: caching, new cache contents: 10 fonts, 0 dirs\n",
            "/usr/local/share/fonts: caching, new cache contents: 0 fonts, 0 dirs\n",
            "/root/.local/share/fonts: skipping, no such directory\n",
            "/root/.fonts: skipping, no such directory\n",
            "/var/cache/fontconfig: cleaning cache directory\n",
            "/root/.cache/fontconfig: not cleaning non-existent cache directory\n",
            "/root/.fontconfig: not cleaning non-existent cache directory\n",
            "fc-cache: succeeded\n",
            "Requirement already satisfied: optuna in /usr/local/lib/python3.7/dist-packages (2.8.0)\n",
            "Requirement already satisfied: cliff in /usr/local/lib/python3.7/dist-packages (from optuna) (3.8.0)\n",
            "Requirement already satisfied: packaging>=20.0 in /usr/local/lib/python3.7/dist-packages (from optuna) (21.0)\n",
            "Requirement already satisfied: sqlalchemy>=1.1.0 in /usr/local/lib/python3.7/dist-packages (from optuna) (1.4.20)\n",
            "Requirement already satisfied: alembic in /usr/local/lib/python3.7/dist-packages (from optuna) (1.6.5)\n",
            "Requirement already satisfied: colorlog in /usr/local/lib/python3.7/dist-packages (from optuna) (5.0.1)\n",
            "Requirement already satisfied: scipy!=1.4.0 in /usr/local/lib/python3.7/dist-packages (from optuna) (1.4.1)\n",
            "Requirement already satisfied: tqdm in /usr/local/lib/python3.7/dist-packages (from optuna) (4.41.1)\n",
            "Requirement already satisfied: numpy in /usr/local/lib/python3.7/dist-packages (from optuna) (1.19.5)\n",
            "Requirement already satisfied: cmaes>=0.8.2 in /usr/local/lib/python3.7/dist-packages (from optuna) (0.8.2)\n",
            "Requirement already satisfied: pyparsing>=2.0.2 in /usr/local/lib/python3.7/dist-packages (from packaging>=20.0->optuna) (2.4.7)\n",
            "Requirement already satisfied: greenlet!=0.4.17 in /usr/local/lib/python3.7/dist-packages (from sqlalchemy>=1.1.0->optuna) (1.1.0)\n",
            "Requirement already satisfied: importlib-metadata in /usr/local/lib/python3.7/dist-packages (from sqlalchemy>=1.1.0->optuna) (4.6.1)\n",
            "Requirement already satisfied: python-dateutil in /usr/local/lib/python3.7/dist-packages (from alembic->optuna) (2.8.1)\n",
            "Requirement already satisfied: Mako in /usr/local/lib/python3.7/dist-packages (from alembic->optuna) (1.1.4)\n",
            "Requirement already satisfied: python-editor>=0.3 in /usr/local/lib/python3.7/dist-packages (from alembic->optuna) (1.0.4)\n",
            "Requirement already satisfied: PyYAML>=3.12 in /usr/local/lib/python3.7/dist-packages (from cliff->optuna) (3.13)\n",
            "Requirement already satisfied: pbr!=2.1.0,>=2.0.0 in /usr/local/lib/python3.7/dist-packages (from cliff->optuna) (5.6.0)\n",
            "Requirement already satisfied: PrettyTable>=0.7.2 in /usr/local/lib/python3.7/dist-packages (from cliff->optuna) (2.1.0)\n",
            "Requirement already satisfied: stevedore>=2.0.1 in /usr/local/lib/python3.7/dist-packages (from cliff->optuna) (3.3.0)\n",
            "Requirement already satisfied: cmd2>=1.0.0 in /usr/local/lib/python3.7/dist-packages (from cliff->optuna) (2.1.2)\n",
            "Requirement already satisfied: pyperclip>=1.6 in /usr/local/lib/python3.7/dist-packages (from cmd2>=1.0.0->cliff->optuna) (1.8.2)\n",
            "Requirement already satisfied: colorama>=0.3.7 in /usr/local/lib/python3.7/dist-packages (from cmd2>=1.0.0->cliff->optuna) (0.4.4)\n",
            "Requirement already satisfied: typing-extensions in /usr/local/lib/python3.7/dist-packages (from cmd2>=1.0.0->cliff->optuna) (3.7.4.3)\n",
            "Requirement already satisfied: attrs>=16.3.0 in /usr/local/lib/python3.7/dist-packages (from cmd2>=1.0.0->cliff->optuna) (21.2.0)\n",
            "Requirement already satisfied: wcwidth>=0.1.7 in /usr/local/lib/python3.7/dist-packages (from cmd2>=1.0.0->cliff->optuna) (0.2.5)\n",
            "Requirement already satisfied: zipp>=0.5 in /usr/local/lib/python3.7/dist-packages (from importlib-metadata->sqlalchemy>=1.1.0->optuna) (3.5.0)\n",
            "Requirement already satisfied: MarkupSafe>=0.9.2 in /usr/local/lib/python3.7/dist-packages (from Mako->alembic->optuna) (2.0.1)\n",
            "Requirement already satisfied: six>=1.5 in /usr/local/lib/python3.7/dist-packages (from python-dateutil->alembic->optuna) (1.15.0)\n"
          ],
          "name": "stdout"
        }
      ]
    },
    {
      "cell_type": "code",
      "metadata": {
        "id": "ULDcZlEqFJBw"
      },
      "source": [
        "import os\n",
        "import warnings\n",
        "warnings.filterwarnings('ignore')\n",
        "import numpy as np\n",
        "import pandas as pd   \n",
        "import matplotlib.pyplot as plt\n",
        "%matplotlib inline\n",
        "import seaborn as sns\n",
        "sns.set()\n",
        "\n",
        "import statsmodels.api as sm\n",
        "from datetime import datetime\n",
        "import optuna\n",
        "from lightgbm import LGBMClassifier\n",
        "from xgboost import XGBRegressor\n",
        "from optuna import Trial\n",
        "from optuna.samplers import TPESampler\n",
        "from sklearn.metrics import mean_squared_error\n",
        "\n",
        "from sklearn import preprocessing\n",
        "from tqdm import tqdm\n",
        "from keras.models import Sequential, Model, load_model\n",
        "from keras.layers import Input, Dense, Activation, Flatten, Dropout\n",
        "from keras.layers import SimpleRNN, LSTM, GRU\n",
        "\n",
        "\n",
        "plt.rc('font', family='NanumBarunGothic') "
      ],
      "execution_count": 54,
      "outputs": []
    },
    {
      "cell_type": "code",
      "metadata": {
        "id": "lwX7I3F9y_vs"
      },
      "source": [
        "os.chdir(\"/content/drive/MyDrive/팀프로젝트/삼성제약\")"
      ],
      "execution_count": 4,
      "outputs": []
    },
    {
      "cell_type": "markdown",
      "metadata": {
        "id": "teEX4tZCy_vt"
      },
      "source": [
        "1. 제약 데이터"
      ]
    },
    {
      "cell_type": "code",
      "metadata": {
        "colab": {
          "base_uri": "https://localhost:8080/",
          "height": 417
        },
        "id": "Sk4Jc1pey_vt",
        "outputId": "1a34fdc1-94d8-427e-8b70-8347ff66e7e5"
      },
      "source": [
        "stock5=pd.read_csv(\"삼성제약 15년도.csv\",encoding='UTF-8')\n",
        "stock6=pd.read_csv(\"삼성제약 16년도.csv\",encoding='UTF-8')\n",
        "stock7=pd.read_csv(\"삼성제약 17년도.csv\",encoding='UTF-8')\n",
        "stock8=pd.read_csv(\"삼성제약 18년도.csv\",encoding='UTF-8')\n",
        "stock9=pd.read_csv(\"삼성제약 19년도.csv\",encoding='UTF-8')\n",
        "\n",
        "stock = pd.DataFrame()\n",
        "\n",
        "for i in [stock5, stock6, stock7, stock8, stock9] : \n",
        "  i=i.sort_values(by='년/월/일',ascending=True)\n",
        "  i = i.reset_index(drop=True)\n",
        "  stock=pd.concat([stock,i])\n",
        "\n",
        "stock = stock.reset_index(drop=True)\n",
        "stock['년/월/일']=stock['년/월/일'].astype(str).str.replace('/',\"-\")\n",
        "\n",
        "\n",
        "for i in ['종가', '거래량(주)', '거래대금(원)', '시가', '고가', '저가', '시가총액(백만)','상장주식수(주)'] :\n",
        "  stock[i]=stock[i].str.replace(\",\", \"\").astype(float)\n",
        "\n",
        "\n",
        "stock=stock[['년/월/일', '종가', '거래량(주)', '거래대금(원)', '시가', '고가', '저가', '시가총액(백만)','상장주식수(주)']]\n",
        "\n",
        "stock=stock.rename(columns={'년/월/일':'date','종가':'c_price'})\n",
        "\n",
        "stock"
      ],
      "execution_count": 5,
      "outputs": [
        {
          "output_type": "execute_result",
          "data": {
            "text/html": [
              "<div>\n",
              "<style scoped>\n",
              "    .dataframe tbody tr th:only-of-type {\n",
              "        vertical-align: middle;\n",
              "    }\n",
              "\n",
              "    .dataframe tbody tr th {\n",
              "        vertical-align: top;\n",
              "    }\n",
              "\n",
              "    .dataframe thead th {\n",
              "        text-align: right;\n",
              "    }\n",
              "</style>\n",
              "<table border=\"1\" class=\"dataframe\">\n",
              "  <thead>\n",
              "    <tr style=\"text-align: right;\">\n",
              "      <th></th>\n",
              "      <th>date</th>\n",
              "      <th>c_price</th>\n",
              "      <th>거래량(주)</th>\n",
              "      <th>거래대금(원)</th>\n",
              "      <th>시가</th>\n",
              "      <th>고가</th>\n",
              "      <th>저가</th>\n",
              "      <th>시가총액(백만)</th>\n",
              "      <th>상장주식수(주)</th>\n",
              "    </tr>\n",
              "  </thead>\n",
              "  <tbody>\n",
              "    <tr>\n",
              "      <th>0</th>\n",
              "      <td>2015-01-02</td>\n",
              "      <td>2350.0</td>\n",
              "      <td>131029.0</td>\n",
              "      <td>3.064134e+08</td>\n",
              "      <td>2280.0</td>\n",
              "      <td>2400.0</td>\n",
              "      <td>2280.0</td>\n",
              "      <td>53279.0</td>\n",
              "      <td>22671867.0</td>\n",
              "    </tr>\n",
              "    <tr>\n",
              "      <th>1</th>\n",
              "      <td>2015-01-05</td>\n",
              "      <td>2340.0</td>\n",
              "      <td>83185.0</td>\n",
              "      <td>1.937542e+08</td>\n",
              "      <td>2370.0</td>\n",
              "      <td>2385.0</td>\n",
              "      <td>2280.0</td>\n",
              "      <td>53052.0</td>\n",
              "      <td>22671867.0</td>\n",
              "    </tr>\n",
              "    <tr>\n",
              "      <th>2</th>\n",
              "      <td>2015-01-06</td>\n",
              "      <td>2380.0</td>\n",
              "      <td>72097.0</td>\n",
              "      <td>1.687488e+08</td>\n",
              "      <td>2300.0</td>\n",
              "      <td>2380.0</td>\n",
              "      <td>2300.0</td>\n",
              "      <td>53959.0</td>\n",
              "      <td>22671867.0</td>\n",
              "    </tr>\n",
              "    <tr>\n",
              "      <th>3</th>\n",
              "      <td>2015-01-07</td>\n",
              "      <td>2395.0</td>\n",
              "      <td>81393.0</td>\n",
              "      <td>1.953211e+08</td>\n",
              "      <td>2395.0</td>\n",
              "      <td>2420.0</td>\n",
              "      <td>2375.0</td>\n",
              "      <td>54299.0</td>\n",
              "      <td>22671867.0</td>\n",
              "    </tr>\n",
              "    <tr>\n",
              "      <th>4</th>\n",
              "      <td>2015-01-08</td>\n",
              "      <td>2390.0</td>\n",
              "      <td>60837.0</td>\n",
              "      <td>1.452567e+08</td>\n",
              "      <td>2400.0</td>\n",
              "      <td>2415.0</td>\n",
              "      <td>2370.0</td>\n",
              "      <td>54186.0</td>\n",
              "      <td>22671867.0</td>\n",
              "    </tr>\n",
              "    <tr>\n",
              "      <th>...</th>\n",
              "      <td>...</td>\n",
              "      <td>...</td>\n",
              "      <td>...</td>\n",
              "      <td>...</td>\n",
              "      <td>...</td>\n",
              "      <td>...</td>\n",
              "      <td>...</td>\n",
              "      <td>...</td>\n",
              "      <td>...</td>\n",
              "    </tr>\n",
              "    <tr>\n",
              "      <th>1202</th>\n",
              "      <td>2019-11-25</td>\n",
              "      <td>4220.0</td>\n",
              "      <td>1908892.0</td>\n",
              "      <td>8.178295e+09</td>\n",
              "      <td>4295.0</td>\n",
              "      <td>4385.0</td>\n",
              "      <td>4210.0</td>\n",
              "      <td>248955.0</td>\n",
              "      <td>58994130.0</td>\n",
              "    </tr>\n",
              "    <tr>\n",
              "      <th>1203</th>\n",
              "      <td>2019-11-26</td>\n",
              "      <td>4390.0</td>\n",
              "      <td>7224166.0</td>\n",
              "      <td>3.198747e+10</td>\n",
              "      <td>4225.0</td>\n",
              "      <td>4610.0</td>\n",
              "      <td>4225.0</td>\n",
              "      <td>258984.0</td>\n",
              "      <td>58994130.0</td>\n",
              "    </tr>\n",
              "    <tr>\n",
              "      <th>1204</th>\n",
              "      <td>2019-11-27</td>\n",
              "      <td>4235.0</td>\n",
              "      <td>2675268.0</td>\n",
              "      <td>1.156499e+10</td>\n",
              "      <td>4395.0</td>\n",
              "      <td>4470.0</td>\n",
              "      <td>4235.0</td>\n",
              "      <td>249840.0</td>\n",
              "      <td>58994130.0</td>\n",
              "    </tr>\n",
              "    <tr>\n",
              "      <th>1205</th>\n",
              "      <td>2019-11-28</td>\n",
              "      <td>4240.0</td>\n",
              "      <td>3754301.0</td>\n",
              "      <td>1.634647e+10</td>\n",
              "      <td>4225.0</td>\n",
              "      <td>4570.0</td>\n",
              "      <td>4220.0</td>\n",
              "      <td>250135.0</td>\n",
              "      <td>58994130.0</td>\n",
              "    </tr>\n",
              "    <tr>\n",
              "      <th>1206</th>\n",
              "      <td>2019-11-29</td>\n",
              "      <td>4060.0</td>\n",
              "      <td>1884041.0</td>\n",
              "      <td>7.776589e+09</td>\n",
              "      <td>4230.0</td>\n",
              "      <td>4280.0</td>\n",
              "      <td>4015.0</td>\n",
              "      <td>239516.0</td>\n",
              "      <td>58994130.0</td>\n",
              "    </tr>\n",
              "  </tbody>\n",
              "</table>\n",
              "<p>1207 rows × 9 columns</p>\n",
              "</div>"
            ],
            "text/plain": [
              "            date  c_price     거래량(주)  ...      저가  시가총액(백만)    상장주식수(주)\n",
              "0     2015-01-02   2350.0   131029.0  ...  2280.0   53279.0  22671867.0\n",
              "1     2015-01-05   2340.0    83185.0  ...  2280.0   53052.0  22671867.0\n",
              "2     2015-01-06   2380.0    72097.0  ...  2300.0   53959.0  22671867.0\n",
              "3     2015-01-07   2395.0    81393.0  ...  2375.0   54299.0  22671867.0\n",
              "4     2015-01-08   2390.0    60837.0  ...  2370.0   54186.0  22671867.0\n",
              "...          ...      ...        ...  ...     ...       ...         ...\n",
              "1202  2019-11-25   4220.0  1908892.0  ...  4210.0  248955.0  58994130.0\n",
              "1203  2019-11-26   4390.0  7224166.0  ...  4225.0  258984.0  58994130.0\n",
              "1204  2019-11-27   4235.0  2675268.0  ...  4235.0  249840.0  58994130.0\n",
              "1205  2019-11-28   4240.0  3754301.0  ...  4220.0  250135.0  58994130.0\n",
              "1206  2019-11-29   4060.0  1884041.0  ...  4015.0  239516.0  58994130.0\n",
              "\n",
              "[1207 rows x 9 columns]"
            ]
          },
          "metadata": {
            "tags": []
          },
          "execution_count": 5
        }
      ]
    },
    {
      "cell_type": "markdown",
      "metadata": {
        "id": "n_RXzGJvy_vv"
      },
      "source": [
        "2. 공매도"
      ]
    },
    {
      "cell_type": "code",
      "metadata": {
        "colab": {
          "base_uri": "https://localhost:8080/",
          "height": 417
        },
        "id": "5pJJnKfdy_vw",
        "outputId": "f548665f-7d29-4d03-f722-6862292db842"
      },
      "source": [
        "pubsale=pd.read_csv(\"삼성제약 공매도.csv\",encoding='UTF-8')\n",
        "pubsale=pubsale.rename(columns={'일자':'date','공매도거래량':'pubsale'})\n",
        "\n",
        "pubsale['pubsale']=pubsale['pubsale'].str.replace(\",\", \"\").astype(float)\n",
        "pubsale['공매도거래대금']=pubsale['공매도거래대금'].str.replace(\",\", \"\").astype(float)\n",
        "\n",
        "pubsale = pubsale.reset_index(drop=True)\n",
        "\n",
        "pubsale=pubsale[['date','pubsale','공매도거래대금']]\n",
        "\n",
        "pubsale"
      ],
      "execution_count": 6,
      "outputs": [
        {
          "output_type": "execute_result",
          "data": {
            "text/html": [
              "<div>\n",
              "<style scoped>\n",
              "    .dataframe tbody tr th:only-of-type {\n",
              "        vertical-align: middle;\n",
              "    }\n",
              "\n",
              "    .dataframe tbody tr th {\n",
              "        vertical-align: top;\n",
              "    }\n",
              "\n",
              "    .dataframe thead th {\n",
              "        text-align: right;\n",
              "    }\n",
              "</style>\n",
              "<table border=\"1\" class=\"dataframe\">\n",
              "  <thead>\n",
              "    <tr style=\"text-align: right;\">\n",
              "      <th></th>\n",
              "      <th>date</th>\n",
              "      <th>pubsale</th>\n",
              "      <th>공매도거래대금</th>\n",
              "    </tr>\n",
              "  </thead>\n",
              "  <tbody>\n",
              "    <tr>\n",
              "      <th>0</th>\n",
              "      <td>2015-01-02</td>\n",
              "      <td>61.0</td>\n",
              "      <td>1.419700e+05</td>\n",
              "    </tr>\n",
              "    <tr>\n",
              "      <th>1</th>\n",
              "      <td>2015-01-05</td>\n",
              "      <td>723.0</td>\n",
              "      <td>1.686620e+06</td>\n",
              "    </tr>\n",
              "    <tr>\n",
              "      <th>2</th>\n",
              "      <td>2015-01-06</td>\n",
              "      <td>315.0</td>\n",
              "      <td>7.391900e+05</td>\n",
              "    </tr>\n",
              "    <tr>\n",
              "      <th>3</th>\n",
              "      <td>2015-01-07</td>\n",
              "      <td>520.0</td>\n",
              "      <td>1.245855e+06</td>\n",
              "    </tr>\n",
              "    <tr>\n",
              "      <th>4</th>\n",
              "      <td>2015-01-08</td>\n",
              "      <td>187.0</td>\n",
              "      <td>4.470000e+05</td>\n",
              "    </tr>\n",
              "    <tr>\n",
              "      <th>...</th>\n",
              "      <td>...</td>\n",
              "      <td>...</td>\n",
              "      <td>...</td>\n",
              "    </tr>\n",
              "    <tr>\n",
              "      <th>1202</th>\n",
              "      <td>2019-11-25</td>\n",
              "      <td>46059.0</td>\n",
              "      <td>1.974867e+08</td>\n",
              "    </tr>\n",
              "    <tr>\n",
              "      <th>1203</th>\n",
              "      <td>2019-11-26</td>\n",
              "      <td>255034.0</td>\n",
              "      <td>1.126076e+09</td>\n",
              "    </tr>\n",
              "    <tr>\n",
              "      <th>1204</th>\n",
              "      <td>2019-11-27</td>\n",
              "      <td>110546.0</td>\n",
              "      <td>4.784162e+08</td>\n",
              "    </tr>\n",
              "    <tr>\n",
              "      <th>1205</th>\n",
              "      <td>2019-11-28</td>\n",
              "      <td>83407.0</td>\n",
              "      <td>3.630848e+08</td>\n",
              "    </tr>\n",
              "    <tr>\n",
              "      <th>1206</th>\n",
              "      <td>2019-11-29</td>\n",
              "      <td>4418.0</td>\n",
              "      <td>1.847962e+07</td>\n",
              "    </tr>\n",
              "  </tbody>\n",
              "</table>\n",
              "<p>1207 rows × 3 columns</p>\n",
              "</div>"
            ],
            "text/plain": [
              "            date   pubsale       공매도거래대금\n",
              "0     2015-01-02      61.0  1.419700e+05\n",
              "1     2015-01-05     723.0  1.686620e+06\n",
              "2     2015-01-06     315.0  7.391900e+05\n",
              "3     2015-01-07     520.0  1.245855e+06\n",
              "4     2015-01-08     187.0  4.470000e+05\n",
              "...          ...       ...           ...\n",
              "1202  2019-11-25   46059.0  1.974867e+08\n",
              "1203  2019-11-26  255034.0  1.126076e+09\n",
              "1204  2019-11-27  110546.0  4.784162e+08\n",
              "1205  2019-11-28   83407.0  3.630848e+08\n",
              "1206  2019-11-29    4418.0  1.847962e+07\n",
              "\n",
              "[1207 rows x 3 columns]"
            ]
          },
          "metadata": {
            "tags": []
          },
          "execution_count": 6
        }
      ]
    },
    {
      "cell_type": "markdown",
      "metadata": {
        "id": "fm6kFqqTy_vx"
      },
      "source": [
        "3. 배당"
      ]
    },
    {
      "cell_type": "code",
      "metadata": {
        "colab": {
          "base_uri": "https://localhost:8080/",
          "height": 417
        },
        "id": "N9tRcVvty_vx",
        "outputId": "91645dca-118d-441e-aee3-193b8e908aa7"
      },
      "source": [
        "div5=pd.read_csv(\"삼성제약 배당 15년도.csv\",encoding='UTF-8')\n",
        "div6=pd.read_csv(\"삼성제약 배당 16년도.csv\",encoding='UTF-8')\n",
        "div7=pd.read_csv(\"삼성제약 배당 17년도.csv\",encoding='UTF-8')\n",
        "div8=pd.read_csv(\"삼성제약 배당 18년도.csv\",encoding='UTF-8')\n",
        "div9=pd.read_csv(\"삼성제약 배당 19년도.csv\",encoding='UTF-8')\n",
        "\n",
        "div = pd.DataFrame()\n",
        "\n",
        "for i in [div5,div6,div7,div8,div9] : \n",
        "  i = i.sort_values(by='일자',ascending=True)\n",
        "  i = i.reset_index(drop=True)\n",
        "  div=pd.concat([div,i])\n",
        "\n",
        "div = div.reset_index(drop=True)\n",
        "div=div.rename(columns={'일자':'date','종가':'배당종가'})\n",
        "\n",
        "div['date']=div['date'].astype(str).str.replace('/',\"-\")\n",
        "\n",
        "\n",
        "for i in ['배당종가','BPS','PBR'] : \n",
        "  div[i]=div[i].astype(str).str.replace(\",\", \"\").astype(float)\n",
        "\n",
        "div=div[['date','배당종가','BPS','PBR']]\n",
        "\n",
        "div"
      ],
      "execution_count": 7,
      "outputs": [
        {
          "output_type": "execute_result",
          "data": {
            "text/html": [
              "<div>\n",
              "<style scoped>\n",
              "    .dataframe tbody tr th:only-of-type {\n",
              "        vertical-align: middle;\n",
              "    }\n",
              "\n",
              "    .dataframe tbody tr th {\n",
              "        vertical-align: top;\n",
              "    }\n",
              "\n",
              "    .dataframe thead th {\n",
              "        text-align: right;\n",
              "    }\n",
              "</style>\n",
              "<table border=\"1\" class=\"dataframe\">\n",
              "  <thead>\n",
              "    <tr style=\"text-align: right;\">\n",
              "      <th></th>\n",
              "      <th>date</th>\n",
              "      <th>배당종가</th>\n",
              "      <th>BPS</th>\n",
              "      <th>PBR</th>\n",
              "    </tr>\n",
              "  </thead>\n",
              "  <tbody>\n",
              "    <tr>\n",
              "      <th>0</th>\n",
              "      <td>2015-01-02</td>\n",
              "      <td>2350.0</td>\n",
              "      <td>1610.0</td>\n",
              "      <td>1.46</td>\n",
              "    </tr>\n",
              "    <tr>\n",
              "      <th>1</th>\n",
              "      <td>2015-01-05</td>\n",
              "      <td>2340.0</td>\n",
              "      <td>1610.0</td>\n",
              "      <td>1.45</td>\n",
              "    </tr>\n",
              "    <tr>\n",
              "      <th>2</th>\n",
              "      <td>2015-01-06</td>\n",
              "      <td>2380.0</td>\n",
              "      <td>1610.0</td>\n",
              "      <td>1.48</td>\n",
              "    </tr>\n",
              "    <tr>\n",
              "      <th>3</th>\n",
              "      <td>2015-01-07</td>\n",
              "      <td>2395.0</td>\n",
              "      <td>1610.0</td>\n",
              "      <td>1.49</td>\n",
              "    </tr>\n",
              "    <tr>\n",
              "      <th>4</th>\n",
              "      <td>2015-01-08</td>\n",
              "      <td>2390.0</td>\n",
              "      <td>1610.0</td>\n",
              "      <td>1.48</td>\n",
              "    </tr>\n",
              "    <tr>\n",
              "      <th>...</th>\n",
              "      <td>...</td>\n",
              "      <td>...</td>\n",
              "      <td>...</td>\n",
              "      <td>...</td>\n",
              "    </tr>\n",
              "    <tr>\n",
              "      <th>1202</th>\n",
              "      <td>2019-11-25</td>\n",
              "      <td>4220.0</td>\n",
              "      <td>2261.0</td>\n",
              "      <td>1.87</td>\n",
              "    </tr>\n",
              "    <tr>\n",
              "      <th>1203</th>\n",
              "      <td>2019-11-26</td>\n",
              "      <td>4390.0</td>\n",
              "      <td>2261.0</td>\n",
              "      <td>1.94</td>\n",
              "    </tr>\n",
              "    <tr>\n",
              "      <th>1204</th>\n",
              "      <td>2019-11-27</td>\n",
              "      <td>4235.0</td>\n",
              "      <td>2261.0</td>\n",
              "      <td>1.87</td>\n",
              "    </tr>\n",
              "    <tr>\n",
              "      <th>1205</th>\n",
              "      <td>2019-11-28</td>\n",
              "      <td>4240.0</td>\n",
              "      <td>2261.0</td>\n",
              "      <td>1.88</td>\n",
              "    </tr>\n",
              "    <tr>\n",
              "      <th>1206</th>\n",
              "      <td>2019-11-29</td>\n",
              "      <td>4060.0</td>\n",
              "      <td>2261.0</td>\n",
              "      <td>1.80</td>\n",
              "    </tr>\n",
              "  </tbody>\n",
              "</table>\n",
              "<p>1207 rows × 4 columns</p>\n",
              "</div>"
            ],
            "text/plain": [
              "            date    배당종가     BPS   PBR\n",
              "0     2015-01-02  2350.0  1610.0  1.46\n",
              "1     2015-01-05  2340.0  1610.0  1.45\n",
              "2     2015-01-06  2380.0  1610.0  1.48\n",
              "3     2015-01-07  2395.0  1610.0  1.49\n",
              "4     2015-01-08  2390.0  1610.0  1.48\n",
              "...          ...     ...     ...   ...\n",
              "1202  2019-11-25  4220.0  2261.0  1.87\n",
              "1203  2019-11-26  4390.0  2261.0  1.94\n",
              "1204  2019-11-27  4235.0  2261.0  1.87\n",
              "1205  2019-11-28  4240.0  2261.0  1.88\n",
              "1206  2019-11-29  4060.0  2261.0  1.80\n",
              "\n",
              "[1207 rows x 4 columns]"
            ]
          },
          "metadata": {
            "tags": []
          },
          "execution_count": 7
        }
      ]
    },
    {
      "cell_type": "markdown",
      "metadata": {
        "id": "wgKFCnDDy_vy"
      },
      "source": [
        "4.금 가격"
      ]
    },
    {
      "cell_type": "code",
      "metadata": {
        "colab": {
          "base_uri": "https://localhost:8080/",
          "height": 417
        },
        "id": "hUZohldYy_vz",
        "outputId": "9ee54ca4-1324-473b-8e7e-1217d89b049e"
      },
      "source": [
        "gold=pd.read_csv(\"일자별 금시세.csv\",encoding='UTF-8')\n",
        "gold=gold.sort_values(by='년/월/일',ascending=True)\n",
        "gold = gold.reset_index(drop=True)\n",
        "gold=gold.rename(columns={'년/월/일':'date','원/g 종가':'gold','원/g 시가':'gold_start'})\n",
        "\n",
        "gold['gold_start']=gold['gold_start'].str.replace(\",\", \"\").astype(float)\n",
        "gold['gold']=gold['gold'].str.replace(\",\", \"\").astype(float)\n",
        "\n",
        "gold"
      ],
      "execution_count": 8,
      "outputs": [
        {
          "output_type": "execute_result",
          "data": {
            "text/html": [
              "<div>\n",
              "<style scoped>\n",
              "    .dataframe tbody tr th:only-of-type {\n",
              "        vertical-align: middle;\n",
              "    }\n",
              "\n",
              "    .dataframe tbody tr th {\n",
              "        vertical-align: top;\n",
              "    }\n",
              "\n",
              "    .dataframe thead th {\n",
              "        text-align: right;\n",
              "    }\n",
              "</style>\n",
              "<table border=\"1\" class=\"dataframe\">\n",
              "  <thead>\n",
              "    <tr style=\"text-align: right;\">\n",
              "      <th></th>\n",
              "      <th>date</th>\n",
              "      <th>gold</th>\n",
              "      <th>gold_start</th>\n",
              "    </tr>\n",
              "  </thead>\n",
              "  <tbody>\n",
              "    <tr>\n",
              "      <th>0</th>\n",
              "      <td>2015-01-02</td>\n",
              "      <td>42300.0</td>\n",
              "      <td>42300.0</td>\n",
              "    </tr>\n",
              "    <tr>\n",
              "      <th>1</th>\n",
              "      <td>2015-01-05</td>\n",
              "      <td>42680.0</td>\n",
              "      <td>42400.0</td>\n",
              "    </tr>\n",
              "    <tr>\n",
              "      <th>2</th>\n",
              "      <td>2015-01-06</td>\n",
              "      <td>42710.0</td>\n",
              "      <td>42700.0</td>\n",
              "    </tr>\n",
              "    <tr>\n",
              "      <th>3</th>\n",
              "      <td>2015-01-07</td>\n",
              "      <td>42970.0</td>\n",
              "      <td>43190.0</td>\n",
              "    </tr>\n",
              "    <tr>\n",
              "      <th>4</th>\n",
              "      <td>2015-01-08</td>\n",
              "      <td>42890.0</td>\n",
              "      <td>43000.0</td>\n",
              "    </tr>\n",
              "    <tr>\n",
              "      <th>...</th>\n",
              "      <td>...</td>\n",
              "      <td>...</td>\n",
              "      <td>...</td>\n",
              "    </tr>\n",
              "    <tr>\n",
              "      <th>1200</th>\n",
              "      <td>2019-11-25</td>\n",
              "      <td>55150.0</td>\n",
              "      <td>55340.0</td>\n",
              "    </tr>\n",
              "    <tr>\n",
              "      <th>1201</th>\n",
              "      <td>2019-11-26</td>\n",
              "      <td>55110.0</td>\n",
              "      <td>54990.0</td>\n",
              "    </tr>\n",
              "    <tr>\n",
              "      <th>1202</th>\n",
              "      <td>2019-11-27</td>\n",
              "      <td>55220.0</td>\n",
              "      <td>55290.0</td>\n",
              "    </tr>\n",
              "    <tr>\n",
              "      <th>1203</th>\n",
              "      <td>2019-11-28</td>\n",
              "      <td>55210.0</td>\n",
              "      <td>55140.0</td>\n",
              "    </tr>\n",
              "    <tr>\n",
              "      <th>1204</th>\n",
              "      <td>2019-11-29</td>\n",
              "      <td>55370.0</td>\n",
              "      <td>55190.0</td>\n",
              "    </tr>\n",
              "  </tbody>\n",
              "</table>\n",
              "<p>1205 rows × 3 columns</p>\n",
              "</div>"
            ],
            "text/plain": [
              "            date     gold  gold_start\n",
              "0     2015-01-02  42300.0     42300.0\n",
              "1     2015-01-05  42680.0     42400.0\n",
              "2     2015-01-06  42710.0     42700.0\n",
              "3     2015-01-07  42970.0     43190.0\n",
              "4     2015-01-08  42890.0     43000.0\n",
              "...          ...      ...         ...\n",
              "1200  2019-11-25  55150.0     55340.0\n",
              "1201  2019-11-26  55110.0     54990.0\n",
              "1202  2019-11-27  55220.0     55290.0\n",
              "1203  2019-11-28  55210.0     55140.0\n",
              "1204  2019-11-29  55370.0     55190.0\n",
              "\n",
              "[1205 rows x 3 columns]"
            ]
          },
          "metadata": {
            "tags": []
          },
          "execution_count": 8
        }
      ]
    },
    {
      "cell_type": "markdown",
      "metadata": {
        "id": "5mSjgQFXy_v1"
      },
      "source": [
        "5.코스피"
      ]
    },
    {
      "cell_type": "code",
      "metadata": {
        "colab": {
          "base_uri": "https://localhost:8080/",
          "height": 417
        },
        "id": "v5qmrjQNy_v1",
        "outputId": "84400eca-2fc5-4b54-9cff-fc5ce2454b78"
      },
      "source": [
        "kospi=pd.read_csv(\"코스피지수 의약품.csv\",encoding='UTF-8',header=None)\n",
        "kospi=kospi.rename(columns={0:'date',1:'kospi'})\n",
        "kospi=kospi.drop(0)\n",
        "kospi=kospi.drop(1)\n",
        "kospi = kospi.reset_index(drop=True)\n",
        "#kospi['년/월/일']=kospi['년/월/일'].astype(str).str.replace('-',\"/\")\n",
        "kospi['kospi']=kospi['kospi'].str.replace(\",\", \"\").astype(float)\n",
        "kospi"
      ],
      "execution_count": 9,
      "outputs": [
        {
          "output_type": "execute_result",
          "data": {
            "text/html": [
              "<div>\n",
              "<style scoped>\n",
              "    .dataframe tbody tr th:only-of-type {\n",
              "        vertical-align: middle;\n",
              "    }\n",
              "\n",
              "    .dataframe tbody tr th {\n",
              "        vertical-align: top;\n",
              "    }\n",
              "\n",
              "    .dataframe thead th {\n",
              "        text-align: right;\n",
              "    }\n",
              "</style>\n",
              "<table border=\"1\" class=\"dataframe\">\n",
              "  <thead>\n",
              "    <tr style=\"text-align: right;\">\n",
              "      <th></th>\n",
              "      <th>date</th>\n",
              "      <th>kospi</th>\n",
              "    </tr>\n",
              "  </thead>\n",
              "  <tbody>\n",
              "    <tr>\n",
              "      <th>0</th>\n",
              "      <td>2015-01-02</td>\n",
              "      <td>4464.08</td>\n",
              "    </tr>\n",
              "    <tr>\n",
              "      <th>1</th>\n",
              "      <td>2015-01-05</td>\n",
              "      <td>4481.14</td>\n",
              "    </tr>\n",
              "    <tr>\n",
              "      <th>2</th>\n",
              "      <td>2015-01-06</td>\n",
              "      <td>4468.42</td>\n",
              "    </tr>\n",
              "    <tr>\n",
              "      <th>3</th>\n",
              "      <td>2015-01-07</td>\n",
              "      <td>4450.86</td>\n",
              "    </tr>\n",
              "    <tr>\n",
              "      <th>4</th>\n",
              "      <td>2015-01-08</td>\n",
              "      <td>4445.84</td>\n",
              "    </tr>\n",
              "    <tr>\n",
              "      <th>...</th>\n",
              "      <td>...</td>\n",
              "      <td>...</td>\n",
              "    </tr>\n",
              "    <tr>\n",
              "      <th>1202</th>\n",
              "      <td>2019-11-25</td>\n",
              "      <td>10343.65</td>\n",
              "    </tr>\n",
              "    <tr>\n",
              "      <th>1203</th>\n",
              "      <td>2019-11-26</td>\n",
              "      <td>10343.92</td>\n",
              "    </tr>\n",
              "    <tr>\n",
              "      <th>1204</th>\n",
              "      <td>2019-11-27</td>\n",
              "      <td>10485.23</td>\n",
              "    </tr>\n",
              "    <tr>\n",
              "      <th>1205</th>\n",
              "      <td>2019-11-28</td>\n",
              "      <td>10404.80</td>\n",
              "    </tr>\n",
              "    <tr>\n",
              "      <th>1206</th>\n",
              "      <td>2019-11-29</td>\n",
              "      <td>10229.68</td>\n",
              "    </tr>\n",
              "  </tbody>\n",
              "</table>\n",
              "<p>1207 rows × 2 columns</p>\n",
              "</div>"
            ],
            "text/plain": [
              "            date     kospi\n",
              "0     2015-01-02   4464.08\n",
              "1     2015-01-05   4481.14\n",
              "2     2015-01-06   4468.42\n",
              "3     2015-01-07   4450.86\n",
              "4     2015-01-08   4445.84\n",
              "...          ...       ...\n",
              "1202  2019-11-25  10343.65\n",
              "1203  2019-11-26  10343.92\n",
              "1204  2019-11-27  10485.23\n",
              "1205  2019-11-28  10404.80\n",
              "1206  2019-11-29  10229.68\n",
              "\n",
              "[1207 rows x 2 columns]"
            ]
          },
          "metadata": {
            "tags": []
          },
          "execution_count": 9
        }
      ]
    },
    {
      "cell_type": "markdown",
      "metadata": {
        "id": "zTnCsoHoy_v2"
      },
      "source": [
        "6. 환율 데이터"
      ]
    },
    {
      "cell_type": "code",
      "metadata": {
        "colab": {
          "base_uri": "https://localhost:8080/",
          "height": 417
        },
        "id": "qK4WdhnGy_v2",
        "outputId": "ef8f0012-f918-4319-f4c5-e98a55dcaffe"
      },
      "source": [
        "exrate5=pd.read_csv(\"환율 15년도.csv\",encoding='UTF-8')\n",
        "exrate6=pd.read_csv(\"환율 16년도.csv\",encoding='UTF-8')\n",
        "exrate7=pd.read_csv(\"환율 17년도.csv\",encoding='UTF-8')\n",
        "exrate8=pd.read_csv(\"환율 18년도.csv\",encoding='UTF-8')\n",
        "exrate9=pd.read_csv(\"환율 19년도.csv\",encoding='UTF-8')\n",
        "\n",
        "exrate = pd.DataFrame()\n",
        "\n",
        "for i in [exrate5,exrate6,exrate7,exrate8,exrate9] : \n",
        "  i = i.sort_values(by='거래일자',ascending=True)\n",
        "  i = i.reset_index(drop=True)\n",
        "  exrate=pd.concat([exrate,i])\n",
        "\n",
        "exrate = exrate.reset_index(drop=True)\n",
        "exrate=exrate.rename(columns={'거래일자':'date','환율종가':'exrate'})\n",
        "\n",
        "exrate = exrate[['date','exrate']]\n",
        "\n",
        "for i in ['exrate'] : \n",
        "  exrate[i]=exrate[i].astype(str).str.replace(\",\", \"\").astype(float)\n",
        "\n",
        "exrate"
      ],
      "execution_count": 10,
      "outputs": [
        {
          "output_type": "execute_result",
          "data": {
            "text/html": [
              "<div>\n",
              "<style scoped>\n",
              "    .dataframe tbody tr th:only-of-type {\n",
              "        vertical-align: middle;\n",
              "    }\n",
              "\n",
              "    .dataframe tbody tr th {\n",
              "        vertical-align: top;\n",
              "    }\n",
              "\n",
              "    .dataframe thead th {\n",
              "        text-align: right;\n",
              "    }\n",
              "</style>\n",
              "<table border=\"1\" class=\"dataframe\">\n",
              "  <thead>\n",
              "    <tr style=\"text-align: right;\">\n",
              "      <th></th>\n",
              "      <th>date</th>\n",
              "      <th>exrate</th>\n",
              "    </tr>\n",
              "  </thead>\n",
              "  <tbody>\n",
              "    <tr>\n",
              "      <th>0</th>\n",
              "      <td>2015-01-01</td>\n",
              "      <td>1093.95</td>\n",
              "    </tr>\n",
              "    <tr>\n",
              "      <th>1</th>\n",
              "      <td>2015-01-02</td>\n",
              "      <td>1105.65</td>\n",
              "    </tr>\n",
              "    <tr>\n",
              "      <th>2</th>\n",
              "      <td>2015-01-03</td>\n",
              "      <td>1107.05</td>\n",
              "    </tr>\n",
              "    <tr>\n",
              "      <th>3</th>\n",
              "      <td>2015-01-04</td>\n",
              "      <td>1107.05</td>\n",
              "    </tr>\n",
              "    <tr>\n",
              "      <th>4</th>\n",
              "      <td>2015-01-05</td>\n",
              "      <td>1109.18</td>\n",
              "    </tr>\n",
              "    <tr>\n",
              "      <th>...</th>\n",
              "      <td>...</td>\n",
              "      <td>...</td>\n",
              "    </tr>\n",
              "    <tr>\n",
              "      <th>1607</th>\n",
              "      <td>2019-11-25</td>\n",
              "      <td>1173.94</td>\n",
              "    </tr>\n",
              "    <tr>\n",
              "      <th>1608</th>\n",
              "      <td>2019-11-26</td>\n",
              "      <td>1176.97</td>\n",
              "    </tr>\n",
              "    <tr>\n",
              "      <th>1609</th>\n",
              "      <td>2019-11-27</td>\n",
              "      <td>1178.00</td>\n",
              "    </tr>\n",
              "    <tr>\n",
              "      <th>1610</th>\n",
              "      <td>2019-11-28</td>\n",
              "      <td>1179.12</td>\n",
              "    </tr>\n",
              "    <tr>\n",
              "      <th>1611</th>\n",
              "      <td>2019-11-29</td>\n",
              "      <td>1180.94</td>\n",
              "    </tr>\n",
              "  </tbody>\n",
              "</table>\n",
              "<p>1612 rows × 2 columns</p>\n",
              "</div>"
            ],
            "text/plain": [
              "            date   exrate\n",
              "0     2015-01-01  1093.95\n",
              "1     2015-01-02  1105.65\n",
              "2     2015-01-03  1107.05\n",
              "3     2015-01-04  1107.05\n",
              "4     2015-01-05  1109.18\n",
              "...          ...      ...\n",
              "1607  2019-11-25  1173.94\n",
              "1608  2019-11-26  1176.97\n",
              "1609  2019-11-27  1178.00\n",
              "1610  2019-11-28  1179.12\n",
              "1611  2019-11-29  1180.94\n",
              "\n",
              "[1612 rows x 2 columns]"
            ]
          },
          "metadata": {
            "tags": []
          },
          "execution_count": 10
        }
      ]
    },
    {
      "cell_type": "code",
      "metadata": {
        "colab": {
          "base_uri": "https://localhost:8080/"
        },
        "id": "2TQgXyzQy_v3",
        "outputId": "e6584841-aaee-48be-a51d-14378c69e234"
      },
      "source": [
        "a1=pd.merge(stock,exrate,on='date',how='left')\n",
        "a3=pd.merge(a1,pubsale,on='date',how='left')\n",
        "a4=pd.merge(a3,div,on='date',how='left')\n",
        "a5=pd.merge(a4,gold,on='date',how='left')\n",
        "a6=pd.merge(a5,kospi,on='date',how='left')\n",
        "\n",
        "a6.isna().sum()"
      ],
      "execution_count": 11,
      "outputs": [
        {
          "output_type": "execute_result",
          "data": {
            "text/plain": [
              "date           0\n",
              "c_price        0\n",
              "거래량(주)         0\n",
              "거래대금(원)        0\n",
              "시가             0\n",
              "고가             0\n",
              "저가             0\n",
              "시가총액(백만)       0\n",
              "상장주식수(주)       0\n",
              "exrate        10\n",
              "pubsale        0\n",
              "공매도거래대금        0\n",
              "배당종가           0\n",
              "BPS            0\n",
              "PBR            0\n",
              "gold           2\n",
              "gold_start     2\n",
              "kospi          0\n",
              "dtype: int64"
            ]
          },
          "metadata": {
            "tags": []
          },
          "execution_count": 11
        }
      ]
    },
    {
      "cell_type": "markdown",
      "metadata": {
        "id": "SFZoYJ05y_v4"
      },
      "source": [
        "## (2) 데이터 정제 \n",
        "\n",
        "\n",
        "(1) 삼성제약 주가 기준으로 병합한 데이터 프레임 NA 처리 및 데이터 정제 \"med_price.csv\""
      ]
    },
    {
      "cell_type": "code",
      "metadata": {
        "colab": {
          "base_uri": "https://localhost:8080/"
        },
        "id": "-bQ6332yAahU",
        "outputId": "363c4c2e-0201-4db4-e994-56b3121537b1"
      },
      "source": [
        "print(a6.index[a6['exrate'].isnull()])\n",
        "print(a6.index[a6['gold'].isnull()])\n",
        "print(a6.index[a6['gold_start'].isnull()])"
      ],
      "execution_count": 12,
      "outputs": [
        {
          "output_type": "stream",
          "text": [
            "Int64Index([198, 220, 280, 285, 305, 321, 322, 403, 431, 644], dtype='int64')\n",
            "Int64Index([797, 1054], dtype='int64')\n",
            "Int64Index([797, 1054], dtype='int64')\n"
          ],
          "name": "stdout"
        }
      ]
    },
    {
      "cell_type": "code",
      "metadata": {
        "id": "cIDyZ6GCy_v4"
      },
      "source": [
        "for i in [198, 220, 280, 285, 305, 321, 322, 403, 431, 644]:    \n",
        "    a6['exrate'].iloc[i]=np.mean([a6['exrate'].iloc[i-1],a6['exrate'].iloc[i+1]])\n",
        "\n",
        "for i in [797, 1054]:    \n",
        "    a6['gold'][i]=np.mean([a6['gold'][i-1],a6['gold'][i+1]])\n",
        "    a6['gold_start'][i]=np.mean([a6['gold_start'][i-1],a6['gold_start'][i+1]])\n"
      ],
      "execution_count": 13,
      "outputs": []
    },
    {
      "cell_type": "code",
      "metadata": {
        "colab": {
          "base_uri": "https://localhost:8080/"
        },
        "id": "mLNpW5aTNiEY",
        "outputId": "f810f8f7-4765-40d8-bc24-b9b3aabd3190"
      },
      "source": [
        "print(a6.index[a6['exrate'].isnull()])\n",
        "\n",
        "a6.fillna(method='ffill',inplace=True)\n",
        "print(a6.isna().sum())"
      ],
      "execution_count": 14,
      "outputs": [
        {
          "output_type": "stream",
          "text": [
            "Int64Index([321, 322], dtype='int64')\n",
            "date          0\n",
            "c_price       0\n",
            "거래량(주)        0\n",
            "거래대금(원)       0\n",
            "시가            0\n",
            "고가            0\n",
            "저가            0\n",
            "시가총액(백만)      0\n",
            "상장주식수(주)      0\n",
            "exrate        0\n",
            "pubsale       0\n",
            "공매도거래대금       0\n",
            "배당종가          0\n",
            "BPS           0\n",
            "PBR           0\n",
            "gold          0\n",
            "gold_start    0\n",
            "kospi         0\n",
            "dtype: int64\n"
          ],
          "name": "stdout"
        }
      ]
    },
    {
      "cell_type": "code",
      "metadata": {
        "colab": {
          "base_uri": "https://localhost:8080/",
          "height": 332
        },
        "id": "2N_lJIRrKO5v",
        "outputId": "40edff4d-91ee-4f97-8a2f-1d4ad536c9ad"
      },
      "source": [
        "a6.describe()"
      ],
      "execution_count": 15,
      "outputs": [
        {
          "output_type": "execute_result",
          "data": {
            "text/html": [
              "<div>\n",
              "<style scoped>\n",
              "    .dataframe tbody tr th:only-of-type {\n",
              "        vertical-align: middle;\n",
              "    }\n",
              "\n",
              "    .dataframe tbody tr th {\n",
              "        vertical-align: top;\n",
              "    }\n",
              "\n",
              "    .dataframe thead th {\n",
              "        text-align: right;\n",
              "    }\n",
              "</style>\n",
              "<table border=\"1\" class=\"dataframe\">\n",
              "  <thead>\n",
              "    <tr style=\"text-align: right;\">\n",
              "      <th></th>\n",
              "      <th>c_price</th>\n",
              "      <th>거래량(주)</th>\n",
              "      <th>거래대금(원)</th>\n",
              "      <th>시가</th>\n",
              "      <th>고가</th>\n",
              "      <th>저가</th>\n",
              "      <th>시가총액(백만)</th>\n",
              "      <th>상장주식수(주)</th>\n",
              "      <th>exrate</th>\n",
              "      <th>pubsale</th>\n",
              "      <th>공매도거래대금</th>\n",
              "      <th>배당종가</th>\n",
              "      <th>BPS</th>\n",
              "      <th>PBR</th>\n",
              "      <th>gold</th>\n",
              "      <th>gold_start</th>\n",
              "      <th>kospi</th>\n",
              "    </tr>\n",
              "  </thead>\n",
              "  <tbody>\n",
              "    <tr>\n",
              "      <th>count</th>\n",
              "      <td>1207.000000</td>\n",
              "      <td>1.207000e+03</td>\n",
              "      <td>1.207000e+03</td>\n",
              "      <td>1207.000000</td>\n",
              "      <td>1207.000000</td>\n",
              "      <td>1207.000000</td>\n",
              "      <td>1207.000000</td>\n",
              "      <td>1.207000e+03</td>\n",
              "      <td>1207.000000</td>\n",
              "      <td>1207.000000</td>\n",
              "      <td>1.207000e+03</td>\n",
              "      <td>1207.000000</td>\n",
              "      <td>1207.000000</td>\n",
              "      <td>1207.000000</td>\n",
              "      <td>1207.000000</td>\n",
              "      <td>1207.000000</td>\n",
              "      <td>1207.000000</td>\n",
              "    </tr>\n",
              "    <tr>\n",
              "      <th>mean</th>\n",
              "      <td>5450.724938</td>\n",
              "      <td>1.015290e+06</td>\n",
              "      <td>6.152401e+09</td>\n",
              "      <td>5457.481359</td>\n",
              "      <td>5622.928749</td>\n",
              "      <td>5298.289147</td>\n",
              "      <td>193146.368683</td>\n",
              "      <td>4.105029e+07</td>\n",
              "      <td>1136.317914</td>\n",
              "      <td>19835.070423</td>\n",
              "      <td>9.032790e+07</td>\n",
              "      <td>5450.724938</td>\n",
              "      <td>1747.439934</td>\n",
              "      <td>3.960804</td>\n",
              "      <td>46256.222038</td>\n",
              "      <td>46279.229495</td>\n",
              "      <td>9786.833273</td>\n",
              "    </tr>\n",
              "    <tr>\n",
              "      <th>std</th>\n",
              "      <td>3572.304802</td>\n",
              "      <td>3.323177e+06</td>\n",
              "      <td>1.731816e+10</td>\n",
              "      <td>3578.387631</td>\n",
              "      <td>3752.769499</td>\n",
              "      <td>3406.544050</td>\n",
              "      <td>73492.602918</td>\n",
              "      <td>1.264472e+07</td>\n",
              "      <td>50.746735</td>\n",
              "      <td>56620.023078</td>\n",
              "      <td>2.076833e+08</td>\n",
              "      <td>3572.304802</td>\n",
              "      <td>437.103074</td>\n",
              "      <td>3.998475</td>\n",
              "      <td>3815.481352</td>\n",
              "      <td>3803.538048</td>\n",
              "      <td>2383.404852</td>\n",
              "    </tr>\n",
              "    <tr>\n",
              "      <th>min</th>\n",
              "      <td>1815.000000</td>\n",
              "      <td>2.509900e+04</td>\n",
              "      <td>9.253956e+07</td>\n",
              "      <td>1645.000000</td>\n",
              "      <td>1890.000000</td>\n",
              "      <td>1645.000000</td>\n",
              "      <td>53052.000000</td>\n",
              "      <td>2.267187e+07</td>\n",
              "      <td>1.127800</td>\n",
              "      <td>0.000000</td>\n",
              "      <td>0.000000e+00</td>\n",
              "      <td>1815.000000</td>\n",
              "      <td>1019.000000</td>\n",
              "      <td>0.800000</td>\n",
              "      <td>39900.000000</td>\n",
              "      <td>40000.000000</td>\n",
              "      <td>4445.840000</td>\n",
              "    </tr>\n",
              "    <tr>\n",
              "      <th>25%</th>\n",
              "      <td>3100.000000</td>\n",
              "      <td>1.582490e+05</td>\n",
              "      <td>5.319281e+08</td>\n",
              "      <td>3097.500000</td>\n",
              "      <td>3197.500000</td>\n",
              "      <td>3025.000000</td>\n",
              "      <td>151704.000000</td>\n",
              "      <td>2.868383e+07</td>\n",
              "      <td>1114.575000</td>\n",
              "      <td>1391.500000</td>\n",
              "      <td>5.611732e+06</td>\n",
              "      <td>3100.000000</td>\n",
              "      <td>1543.000000</td>\n",
              "      <td>1.490000</td>\n",
              "      <td>43935.000000</td>\n",
              "      <td>43925.000000</td>\n",
              "      <td>8059.665000</td>\n",
              "    </tr>\n",
              "    <tr>\n",
              "      <th>50%</th>\n",
              "      <td>3980.000000</td>\n",
              "      <td>2.827230e+05</td>\n",
              "      <td>1.361353e+09</td>\n",
              "      <td>3980.000000</td>\n",
              "      <td>4040.000000</td>\n",
              "      <td>3900.000000</td>\n",
              "      <td>171793.000000</td>\n",
              "      <td>3.971357e+07</td>\n",
              "      <td>1132.450000</td>\n",
              "      <td>6158.000000</td>\n",
              "      <td>2.800204e+07</td>\n",
              "      <td>3980.000000</td>\n",
              "      <td>2074.000000</td>\n",
              "      <td>2.140000</td>\n",
              "      <td>45580.000000</td>\n",
              "      <td>45580.000000</td>\n",
              "      <td>9574.160000</td>\n",
              "    </tr>\n",
              "    <tr>\n",
              "      <th>75%</th>\n",
              "      <td>6760.000000</td>\n",
              "      <td>6.960770e+05</td>\n",
              "      <td>4.146051e+09</td>\n",
              "      <td>6780.000000</td>\n",
              "      <td>6895.000000</td>\n",
              "      <td>6645.000000</td>\n",
              "      <td>210425.500000</td>\n",
              "      <td>5.823505e+07</td>\n",
              "      <td>1168.260000</td>\n",
              "      <td>16884.000000</td>\n",
              "      <td>8.871481e+07</td>\n",
              "      <td>6760.000000</td>\n",
              "      <td>2076.000000</td>\n",
              "      <td>4.430000</td>\n",
              "      <td>47375.000000</td>\n",
              "      <td>47360.000000</td>\n",
              "      <td>11424.920000</td>\n",
              "    </tr>\n",
              "    <tr>\n",
              "      <th>max</th>\n",
              "      <td>20900.000000</td>\n",
              "      <td>5.752795e+07</td>\n",
              "      <td>2.576227e+11</td>\n",
              "      <td>20850.000000</td>\n",
              "      <td>21900.000000</td>\n",
              "      <td>19350.000000</td>\n",
              "      <td>529525.000000</td>\n",
              "      <td>5.899413e+07</td>\n",
              "      <td>1239.280000</td>\n",
              "      <td>827486.000000</td>\n",
              "      <td>2.535291e+09</td>\n",
              "      <td>20900.000000</td>\n",
              "      <td>2261.000000</td>\n",
              "      <td>20.510000</td>\n",
              "      <td>60510.000000</td>\n",
              "      <td>60480.000000</td>\n",
              "      <td>15950.420000</td>\n",
              "    </tr>\n",
              "  </tbody>\n",
              "</table>\n",
              "</div>"
            ],
            "text/plain": [
              "            c_price        거래량(주)  ...    gold_start         kospi\n",
              "count   1207.000000  1.207000e+03  ...   1207.000000   1207.000000\n",
              "mean    5450.724938  1.015290e+06  ...  46279.229495   9786.833273\n",
              "std     3572.304802  3.323177e+06  ...   3803.538048   2383.404852\n",
              "min     1815.000000  2.509900e+04  ...  40000.000000   4445.840000\n",
              "25%     3100.000000  1.582490e+05  ...  43925.000000   8059.665000\n",
              "50%     3980.000000  2.827230e+05  ...  45580.000000   9574.160000\n",
              "75%     6760.000000  6.960770e+05  ...  47360.000000  11424.920000\n",
              "max    20900.000000  5.752795e+07  ...  60480.000000  15950.420000\n",
              "\n",
              "[8 rows x 17 columns]"
            ]
          },
          "metadata": {
            "tags": []
          },
          "execution_count": 15
        }
      ]
    },
    {
      "cell_type": "code",
      "metadata": {
        "colab": {
          "base_uri": "https://localhost:8080/",
          "height": 1000
        },
        "id": "ySr67e2ECMa_",
        "outputId": "39858c25-31d5-4e71-b993-4085355ada88"
      },
      "source": [
        "sns.set_palette(\"Dark2\")\n",
        "\n",
        "f, ax = plt.subplots(7, 2, figsize=(15, 20))\n",
        "\n",
        "sns.lineplot(data=a6['c_price'], ax=ax[0][0])\n",
        "sns.lineplot(data=a6['거래량(주)'], ax=ax[0][1])\n",
        "sns.lineplot(data=a6['거래대금(원)'], ax=ax[1][0])\n",
        "sns.lineplot(data=a6['시가'], ax=ax[1][1],label=\"시가\",alpha = 0.7)\n",
        "sns.lineplot(data=a6['고가'], ax=ax[1][1],label=\"고가\",alpha = 0.7)\n",
        "sns.lineplot(data=a6['저가'], ax=ax[1][1],label=\"저가\",alpha = 0.7)\n",
        "sns.lineplot(data=a6['c_price'],ax=ax[1][1],label=\"종가\",linewidth=10,alpha = 0.2)\n",
        "sns.lineplot(data=a6['시가총액(백만)'], ax=ax[2][0])\n",
        "sns.lineplot(data=a6['상장주식수(주)'], ax=ax[2][1])\n",
        "sns.lineplot(data=a6['exrate'], ax=ax[3][0])\n",
        "sns.lineplot(data=a6['pubsale'], ax=ax[3][1])\n",
        "sns.lineplot(data=a6['공매도거래대금'], ax=ax[4][0])\n",
        "sns.lineplot(data=a6['배당종가'], ax=ax[4][1])\n",
        "sns.lineplot(data=a6['BPS'], ax=ax[5][0])\n",
        "sns.lineplot(data=a6['PBR'], ax=ax[5][1])\n",
        "sns.lineplot(data=a6['gold'], ax=ax[6][0],label=\"금 종가\",alpha = 0.2,linewidth=10)\n",
        "sns.lineplot(data=a6['gold_start'], ax=ax[6][0],label=\"금 시가\",alpha = 0.5)\n",
        "sns.lineplot(data=a6['kospi'], ax=ax[6][1])\n",
        "\n",
        "plt.subplots_adjust(wspace=0.3, hspace=0.3)\n",
        "plt.legend()\n",
        "plt.show()"
      ],
      "execution_count": 16,
      "outputs": [
        {
          "output_type": "stream",
          "text": [
            "No handles with labels found to put in legend.\n"
          ],
          "name": "stderr"
        },
        {
          "output_type": "display_data",
          "data": {
            "image/png": "[encoded data removed]",
            "text/plain": [
              "<Figure size 1080x1440 with 14 Axes>"
            ]
          },
          "metadata": {
            "tags": []
          }
        }
      ]
    },
    {
      "cell_type": "code",
      "metadata": {
        "colab": {
          "base_uri": "https://localhost:8080/"
        },
        "id": "HJB1UOkRT1fS",
        "outputId": "5eeb9e91-1e63-463e-bdad-94388ef0a440"
      },
      "source": [
        "a6.iloc[49]  # exrate가 1.1278"
      ],
      "execution_count": 17,
      "outputs": [
        {
          "output_type": "execute_result",
          "data": {
            "text/plain": [
              "date           2015-03-17\n",
              "c_price              4600\n",
              "거래량(주)             376404\n",
              "거래대금(원)       1.72252e+09\n",
              "시가                   4650\n",
              "고가                   4660\n",
              "저가                   4490\n",
              "시가총액(백만)           110274\n",
              "상장주식수(주)      2.39727e+07\n",
              "exrate             1.1278\n",
              "pubsale              1176\n",
              "공매도거래대금       5.41136e+06\n",
              "배당종가                 4600\n",
              "BPS                  1610\n",
              "PBR                  2.86\n",
              "gold                42700\n",
              "gold_start          43100\n",
              "kospi             5333.94\n",
              "Name: 49, dtype: object"
            ]
          },
          "metadata": {
            "tags": []
          },
          "execution_count": 17
        }
      ]
    },
    {
      "cell_type": "code",
      "metadata": {
        "colab": {
          "base_uri": "https://localhost:8080/",
          "height": 288
        },
        "id": "I_nFg_ASJzHX",
        "outputId": "ec4acf57-cfb5-44b9-9a86-95b035dfcd82"
      },
      "source": [
        "a6['exrate'][49] = 1127.8\n",
        "\n",
        "sns.lineplot(data=a6['exrate'])"
      ],
      "execution_count": 18,
      "outputs": [
        {
          "output_type": "execute_result",
          "data": {
            "text/plain": [
              "<matplotlib.axes._subplots.AxesSubplot at 0x7fadd9885550>"
            ]
          },
          "metadata": {
            "tags": []
          },
          "execution_count": 18
        },
        {
          "output_type": "display_data",
          "data": {
            "image/png": "[encoded data removed]",
            "text/plain": [
              "<Figure size 432x288 with 1 Axes>"
            ]
          },
          "metadata": {
            "tags": []
          }
        }
      ]
    },
    {
      "cell_type": "markdown",
      "metadata": {
        "id": "6MmURa_5Wqv5"
      },
      "source": [
        "# 시계열 분석"
      ]
    },
    {
      "cell_type": "markdown",
      "metadata": {
        "id": "YdFl0YXpuw4m"
      },
      "source": [
        "## (1) 파생변수 생성"
      ]
    },
    {
      "cell_type": "code",
      "metadata": {
        "id": "aooZ_FnwZ90d"
      },
      "source": [
        "a6['date']=pd.to_datetime(a6['date'])\n",
        "a6.index=a6['date']\n",
        "time_data=a6"
      ],
      "execution_count": 19,
      "outputs": []
    },
    {
      "cell_type": "code",
      "metadata": {
        "colab": {
          "base_uri": "https://localhost:8080/",
          "height": 669
        },
        "id": "8nsRjnFEXWf6",
        "outputId": "fdb5bb72-83be-4b7f-b412-e705d5476788"
      },
      "source": [
        "time_data['Year'] = time_data['date'].dt.year\n",
        "time_data['Quarter'] = time_data['date'].dt.quarter\n",
        "time_data['Quater_ver2'] = time_data['Quarter'] + (time_data.Year - time_data.Year.min()) * 4\n",
        "time_data['DayofWeek'] = time_data['date'].dt.dayofweek\n",
        "\n",
        "time_data['Month'] = time_data['date'].dt.month\n",
        "time_data['count_lag1'] = time_data['c_price'].shift(1)\n",
        "time_data['count_lag2'] = time_data['c_price'].shift(2)\n",
        "time_data['count_lag1'].fillna(method='bfill', inplace=True)\n",
        "time_data['count_lag2'].fillna(method='bfill', inplace=True)\n",
        "\n",
        "time_data"
      ],
      "execution_count": 20,
      "outputs": [
        {
          "output_type": "execute_result",
          "data": {
            "text/html": [
              "<div>\n",
              "<style scoped>\n",
              "    .dataframe tbody tr th:only-of-type {\n",
              "        vertical-align: middle;\n",
              "    }\n",
              "\n",
              "    .dataframe tbody tr th {\n",
              "        vertical-align: top;\n",
              "    }\n",
              "\n",
              "    .dataframe thead th {\n",
              "        text-align: right;\n",
              "    }\n",
              "</style>\n",
              "<table border=\"1\" class=\"dataframe\">\n",
              "  <thead>\n",
              "    <tr style=\"text-align: right;\">\n",
              "      <th></th>\n",
              "      <th>date</th>\n",
              "      <th>c_price</th>\n",
              "      <th>거래량(주)</th>\n",
              "      <th>거래대금(원)</th>\n",
              "      <th>시가</th>\n",
              "      <th>고가</th>\n",
              "      <th>저가</th>\n",
              "      <th>시가총액(백만)</th>\n",
              "      <th>상장주식수(주)</th>\n",
              "      <th>exrate</th>\n",
              "      <th>pubsale</th>\n",
              "      <th>공매도거래대금</th>\n",
              "      <th>배당종가</th>\n",
              "      <th>BPS</th>\n",
              "      <th>PBR</th>\n",
              "      <th>gold</th>\n",
              "      <th>gold_start</th>\n",
              "      <th>kospi</th>\n",
              "      <th>Year</th>\n",
              "      <th>Quarter</th>\n",
              "      <th>Quater_ver2</th>\n",
              "      <th>DayofWeek</th>\n",
              "      <th>Month</th>\n",
              "      <th>count_lag1</th>\n",
              "      <th>count_lag2</th>\n",
              "    </tr>\n",
              "    <tr>\n",
              "      <th>date</th>\n",
              "      <th></th>\n",
              "      <th></th>\n",
              "      <th></th>\n",
              "      <th></th>\n",
              "      <th></th>\n",
              "      <th></th>\n",
              "      <th></th>\n",
              "      <th></th>\n",
              "      <th></th>\n",
              "      <th></th>\n",
              "      <th></th>\n",
              "      <th></th>\n",
              "      <th></th>\n",
              "      <th></th>\n",
              "      <th></th>\n",
              "      <th></th>\n",
              "      <th></th>\n",
              "      <th></th>\n",
              "      <th></th>\n",
              "      <th></th>\n",
              "      <th></th>\n",
              "      <th></th>\n",
              "      <th></th>\n",
              "      <th></th>\n",
              "      <th></th>\n",
              "    </tr>\n",
              "  </thead>\n",
              "  <tbody>\n",
              "    <tr>\n",
              "      <th>2015-01-02</th>\n",
              "      <td>2015-01-02</td>\n",
              "      <td>2350.0</td>\n",
              "      <td>131029.0</td>\n",
              "      <td>3.064134e+08</td>\n",
              "      <td>2280.0</td>\n",
              "      <td>2400.0</td>\n",
              "      <td>2280.0</td>\n",
              "      <td>53279.0</td>\n",
              "      <td>22671867.0</td>\n",
              "      <td>1105.65</td>\n",
              "      <td>61.0</td>\n",
              "      <td>1.419700e+05</td>\n",
              "      <td>2350.0</td>\n",
              "      <td>1610.0</td>\n",
              "      <td>1.46</td>\n",
              "      <td>42300.0</td>\n",
              "      <td>42300.0</td>\n",
              "      <td>4464.08</td>\n",
              "      <td>2015</td>\n",
              "      <td>1</td>\n",
              "      <td>1</td>\n",
              "      <td>4</td>\n",
              "      <td>1</td>\n",
              "      <td>2350.0</td>\n",
              "      <td>2350.0</td>\n",
              "    </tr>\n",
              "    <tr>\n",
              "      <th>2015-01-05</th>\n",
              "      <td>2015-01-05</td>\n",
              "      <td>2340.0</td>\n",
              "      <td>83185.0</td>\n",
              "      <td>1.937542e+08</td>\n",
              "      <td>2370.0</td>\n",
              "      <td>2385.0</td>\n",
              "      <td>2280.0</td>\n",
              "      <td>53052.0</td>\n",
              "      <td>22671867.0</td>\n",
              "      <td>1109.18</td>\n",
              "      <td>723.0</td>\n",
              "      <td>1.686620e+06</td>\n",
              "      <td>2340.0</td>\n",
              "      <td>1610.0</td>\n",
              "      <td>1.45</td>\n",
              "      <td>42680.0</td>\n",
              "      <td>42400.0</td>\n",
              "      <td>4481.14</td>\n",
              "      <td>2015</td>\n",
              "      <td>1</td>\n",
              "      <td>1</td>\n",
              "      <td>0</td>\n",
              "      <td>1</td>\n",
              "      <td>2350.0</td>\n",
              "      <td>2350.0</td>\n",
              "    </tr>\n",
              "    <tr>\n",
              "      <th>2015-01-06</th>\n",
              "      <td>2015-01-06</td>\n",
              "      <td>2380.0</td>\n",
              "      <td>72097.0</td>\n",
              "      <td>1.687488e+08</td>\n",
              "      <td>2300.0</td>\n",
              "      <td>2380.0</td>\n",
              "      <td>2300.0</td>\n",
              "      <td>53959.0</td>\n",
              "      <td>22671867.0</td>\n",
              "      <td>1101.65</td>\n",
              "      <td>315.0</td>\n",
              "      <td>7.391900e+05</td>\n",
              "      <td>2380.0</td>\n",
              "      <td>1610.0</td>\n",
              "      <td>1.48</td>\n",
              "      <td>42710.0</td>\n",
              "      <td>42700.0</td>\n",
              "      <td>4468.42</td>\n",
              "      <td>2015</td>\n",
              "      <td>1</td>\n",
              "      <td>1</td>\n",
              "      <td>1</td>\n",
              "      <td>1</td>\n",
              "      <td>2340.0</td>\n",
              "      <td>2350.0</td>\n",
              "    </tr>\n",
              "    <tr>\n",
              "      <th>2015-01-07</th>\n",
              "      <td>2015-01-07</td>\n",
              "      <td>2395.0</td>\n",
              "      <td>81393.0</td>\n",
              "      <td>1.953211e+08</td>\n",
              "      <td>2395.0</td>\n",
              "      <td>2420.0</td>\n",
              "      <td>2375.0</td>\n",
              "      <td>54299.0</td>\n",
              "      <td>22671867.0</td>\n",
              "      <td>1103.25</td>\n",
              "      <td>520.0</td>\n",
              "      <td>1.245855e+06</td>\n",
              "      <td>2395.0</td>\n",
              "      <td>1610.0</td>\n",
              "      <td>1.49</td>\n",
              "      <td>42970.0</td>\n",
              "      <td>43190.0</td>\n",
              "      <td>4450.86</td>\n",
              "      <td>2015</td>\n",
              "      <td>1</td>\n",
              "      <td>1</td>\n",
              "      <td>2</td>\n",
              "      <td>1</td>\n",
              "      <td>2380.0</td>\n",
              "      <td>2340.0</td>\n",
              "    </tr>\n",
              "    <tr>\n",
              "      <th>2015-01-08</th>\n",
              "      <td>2015-01-08</td>\n",
              "      <td>2390.0</td>\n",
              "      <td>60837.0</td>\n",
              "      <td>1.452567e+08</td>\n",
              "      <td>2400.0</td>\n",
              "      <td>2415.0</td>\n",
              "      <td>2370.0</td>\n",
              "      <td>54186.0</td>\n",
              "      <td>22671867.0</td>\n",
              "      <td>1097.35</td>\n",
              "      <td>187.0</td>\n",
              "      <td>4.470000e+05</td>\n",
              "      <td>2390.0</td>\n",
              "      <td>1610.0</td>\n",
              "      <td>1.48</td>\n",
              "      <td>42890.0</td>\n",
              "      <td>43000.0</td>\n",
              "      <td>4445.84</td>\n",
              "      <td>2015</td>\n",
              "      <td>1</td>\n",
              "      <td>1</td>\n",
              "      <td>3</td>\n",
              "      <td>1</td>\n",
              "      <td>2395.0</td>\n",
              "      <td>2380.0</td>\n",
              "    </tr>\n",
              "    <tr>\n",
              "      <th>...</th>\n",
              "      <td>...</td>\n",
              "      <td>...</td>\n",
              "      <td>...</td>\n",
              "      <td>...</td>\n",
              "      <td>...</td>\n",
              "      <td>...</td>\n",
              "      <td>...</td>\n",
              "      <td>...</td>\n",
              "      <td>...</td>\n",
              "      <td>...</td>\n",
              "      <td>...</td>\n",
              "      <td>...</td>\n",
              "      <td>...</td>\n",
              "      <td>...</td>\n",
              "      <td>...</td>\n",
              "      <td>...</td>\n",
              "      <td>...</td>\n",
              "      <td>...</td>\n",
              "      <td>...</td>\n",
              "      <td>...</td>\n",
              "      <td>...</td>\n",
              "      <td>...</td>\n",
              "      <td>...</td>\n",
              "      <td>...</td>\n",
              "      <td>...</td>\n",
              "    </tr>\n",
              "    <tr>\n",
              "      <th>2019-11-25</th>\n",
              "      <td>2019-11-25</td>\n",
              "      <td>4220.0</td>\n",
              "      <td>1908892.0</td>\n",
              "      <td>8.178295e+09</td>\n",
              "      <td>4295.0</td>\n",
              "      <td>4385.0</td>\n",
              "      <td>4210.0</td>\n",
              "      <td>248955.0</td>\n",
              "      <td>58994130.0</td>\n",
              "      <td>1173.94</td>\n",
              "      <td>46059.0</td>\n",
              "      <td>1.974867e+08</td>\n",
              "      <td>4220.0</td>\n",
              "      <td>2261.0</td>\n",
              "      <td>1.87</td>\n",
              "      <td>55150.0</td>\n",
              "      <td>55340.0</td>\n",
              "      <td>10343.65</td>\n",
              "      <td>2019</td>\n",
              "      <td>4</td>\n",
              "      <td>20</td>\n",
              "      <td>0</td>\n",
              "      <td>11</td>\n",
              "      <td>4260.0</td>\n",
              "      <td>4320.0</td>\n",
              "    </tr>\n",
              "    <tr>\n",
              "      <th>2019-11-26</th>\n",
              "      <td>2019-11-26</td>\n",
              "      <td>4390.0</td>\n",
              "      <td>7224166.0</td>\n",
              "      <td>3.198747e+10</td>\n",
              "      <td>4225.0</td>\n",
              "      <td>4610.0</td>\n",
              "      <td>4225.0</td>\n",
              "      <td>258984.0</td>\n",
              "      <td>58994130.0</td>\n",
              "      <td>1176.97</td>\n",
              "      <td>255034.0</td>\n",
              "      <td>1.126076e+09</td>\n",
              "      <td>4390.0</td>\n",
              "      <td>2261.0</td>\n",
              "      <td>1.94</td>\n",
              "      <td>55110.0</td>\n",
              "      <td>54990.0</td>\n",
              "      <td>10343.92</td>\n",
              "      <td>2019</td>\n",
              "      <td>4</td>\n",
              "      <td>20</td>\n",
              "      <td>1</td>\n",
              "      <td>11</td>\n",
              "      <td>4220.0</td>\n",
              "      <td>4260.0</td>\n",
              "    </tr>\n",
              "    <tr>\n",
              "      <th>2019-11-27</th>\n",
              "      <td>2019-11-27</td>\n",
              "      <td>4235.0</td>\n",
              "      <td>2675268.0</td>\n",
              "      <td>1.156499e+10</td>\n",
              "      <td>4395.0</td>\n",
              "      <td>4470.0</td>\n",
              "      <td>4235.0</td>\n",
              "      <td>249840.0</td>\n",
              "      <td>58994130.0</td>\n",
              "      <td>1178.00</td>\n",
              "      <td>110546.0</td>\n",
              "      <td>4.784162e+08</td>\n",
              "      <td>4235.0</td>\n",
              "      <td>2261.0</td>\n",
              "      <td>1.87</td>\n",
              "      <td>55220.0</td>\n",
              "      <td>55290.0</td>\n",
              "      <td>10485.23</td>\n",
              "      <td>2019</td>\n",
              "      <td>4</td>\n",
              "      <td>20</td>\n",
              "      <td>2</td>\n",
              "      <td>11</td>\n",
              "      <td>4390.0</td>\n",
              "      <td>4220.0</td>\n",
              "    </tr>\n",
              "    <tr>\n",
              "      <th>2019-11-28</th>\n",
              "      <td>2019-11-28</td>\n",
              "      <td>4240.0</td>\n",
              "      <td>3754301.0</td>\n",
              "      <td>1.634647e+10</td>\n",
              "      <td>4225.0</td>\n",
              "      <td>4570.0</td>\n",
              "      <td>4220.0</td>\n",
              "      <td>250135.0</td>\n",
              "      <td>58994130.0</td>\n",
              "      <td>1179.12</td>\n",
              "      <td>83407.0</td>\n",
              "      <td>3.630848e+08</td>\n",
              "      <td>4240.0</td>\n",
              "      <td>2261.0</td>\n",
              "      <td>1.88</td>\n",
              "      <td>55210.0</td>\n",
              "      <td>55140.0</td>\n",
              "      <td>10404.80</td>\n",
              "      <td>2019</td>\n",
              "      <td>4</td>\n",
              "      <td>20</td>\n",
              "      <td>3</td>\n",
              "      <td>11</td>\n",
              "      <td>4235.0</td>\n",
              "      <td>4390.0</td>\n",
              "    </tr>\n",
              "    <tr>\n",
              "      <th>2019-11-29</th>\n",
              "      <td>2019-11-29</td>\n",
              "      <td>4060.0</td>\n",
              "      <td>1884041.0</td>\n",
              "      <td>7.776589e+09</td>\n",
              "      <td>4230.0</td>\n",
              "      <td>4280.0</td>\n",
              "      <td>4015.0</td>\n",
              "      <td>239516.0</td>\n",
              "      <td>58994130.0</td>\n",
              "      <td>1180.94</td>\n",
              "      <td>4418.0</td>\n",
              "      <td>1.847962e+07</td>\n",
              "      <td>4060.0</td>\n",
              "      <td>2261.0</td>\n",
              "      <td>1.80</td>\n",
              "      <td>55370.0</td>\n",
              "      <td>55190.0</td>\n",
              "      <td>10229.68</td>\n",
              "      <td>2019</td>\n",
              "      <td>4</td>\n",
              "      <td>20</td>\n",
              "      <td>4</td>\n",
              "      <td>11</td>\n",
              "      <td>4240.0</td>\n",
              "      <td>4235.0</td>\n",
              "    </tr>\n",
              "  </tbody>\n",
              "</table>\n",
              "<p>1207 rows × 25 columns</p>\n",
              "</div>"
            ],
            "text/plain": [
              "                 date  c_price     거래량(주)  ...  Month  count_lag1  count_lag2\n",
              "date                                       ...                               \n",
              "2015-01-02 2015-01-02   2350.0   131029.0  ...      1      2350.0      2350.0\n",
              "2015-01-05 2015-01-05   2340.0    83185.0  ...      1      2350.0      2350.0\n",
              "2015-01-06 2015-01-06   2380.0    72097.0  ...      1      2340.0      2350.0\n",
              "2015-01-07 2015-01-07   2395.0    81393.0  ...      1      2380.0      2340.0\n",
              "2015-01-08 2015-01-08   2390.0    60837.0  ...      1      2395.0      2380.0\n",
              "...               ...      ...        ...  ...    ...         ...         ...\n",
              "2019-11-25 2019-11-25   4220.0  1908892.0  ...     11      4260.0      4320.0\n",
              "2019-11-26 2019-11-26   4390.0  7224166.0  ...     11      4220.0      4260.0\n",
              "2019-11-27 2019-11-27   4235.0  2675268.0  ...     11      4390.0      4220.0\n",
              "2019-11-28 2019-11-28   4240.0  3754301.0  ...     11      4235.0      4390.0\n",
              "2019-11-29 2019-11-29   4060.0  1884041.0  ...     11      4240.0      4235.0\n",
              "\n",
              "[1207 rows x 25 columns]"
            ]
          },
          "metadata": {
            "tags": []
          },
          "execution_count": 20
        }
      ]
    },
    {
      "cell_type": "markdown",
      "metadata": {
        "id": "xC2n_r-ju69-"
      },
      "source": [
        "## (2) Train, Test data"
      ]
    },
    {
      "cell_type": "code",
      "metadata": {
        "colab": {
          "base_uri": "https://localhost:8080/"
        },
        "id": "5nf3kGnFClZm",
        "outputId": "957b7138-0b83-4a13-84fa-03bb5e4e9129"
      },
      "source": [
        "def datasplit_ts(raw, Y_colname, X_colname, criteria):\n",
        "    raw_train = raw.loc[raw.index < criteria,:]\n",
        "    raw_test = raw.loc[raw.index >= criteria,:]\n",
        "    Y_train = raw_train[Y_colname]\n",
        "    X_train = raw_train[X_colname]\n",
        "    Y_test = raw_test[Y_colname]\n",
        "    X_test = raw_test[X_colname]\n",
        "    print('Train_size:', raw_train.shape, 'Test_size:', raw_test.shape)\n",
        "    print('X_train:', X_train.shape, 'Y_train:', Y_train.shape)\n",
        "    print('X_test:', X_test.shape, 'Y_test:', Y_test.shape)\n",
        "    return X_train, X_test, Y_train, Y_test\n",
        "\n",
        "\n",
        "Y_colname = ['c_price']\n",
        "X_remove = ['date','배당종가']\n",
        "X_colname = [x for x in time_data.columns if x not in Y_colname+X_remove]\n",
        "X_train, X_test, Y_train, Y_test  = datasplit_ts(time_data,Y_colname,X_colname,'2019-11-25')\n",
        "\n",
        "\n",
        "X_train_op, X_val_op, Y_train_op, Y_val_op = datasplit_ts(time_data,Y_colname,X_colname,'2019-11-18')\n",
        "X_val_op,Y_val_op = X_val_op.iloc[:5],Y_val_op.iloc[:5]\n"
      ],
      "execution_count": 42,
      "outputs": [
        {
          "output_type": "stream",
          "text": [
            "Train_size: (1202, 25) Test_size: (5, 25)\n",
            "X_train: (1202, 22) Y_train: (1202, 1)\n",
            "X_test: (5, 22) Y_test: (5, 1)\n",
            "Train_size: (1197, 25) Test_size: (10, 25)\n",
            "X_train: (1197, 22) Y_train: (1197, 1)\n",
            "X_test: (10, 22) Y_test: (10, 1)\n"
          ],
          "name": "stdout"
        }
      ]
    },
    {
      "cell_type": "code",
      "metadata": {
        "id": "s6hVHRNDnOIl"
      },
      "source": [
        "scaler_X_tr = preprocessing.MinMaxScaler()\n",
        "scaler_X_op = preprocessing.MinMaxScaler()"
      ],
      "execution_count": 43,
      "outputs": []
    },
    {
      "cell_type": "code",
      "metadata": {
        "id": "o5PpaWCJncmV"
      },
      "source": [
        "X_train_scaled = scaler_X_tr.fit_transform(X_train)\n",
        "Y_train_scaled = Y_train\n",
        "X_test_scaled = scaler_X_tr.transform(X_test)\n",
        "Y_test_scaled = Y_test"
      ],
      "execution_count": 44,
      "outputs": []
    },
    {
      "cell_type": "code",
      "metadata": {
        "id": "ccR1DPYH5Xfy"
      },
      "source": [
        "X_train_op = scaler_X_op.fit_transform(X_train_op)\n",
        "X_val_op = scaler_X_op.transform(X_val_op)"
      ],
      "execution_count": 45,
      "outputs": []
    },
    {
      "cell_type": "code",
      "metadata": {
        "id": "yRXCj-SDypIH"
      },
      "source": [
        "def evaluation(Y_real, Y_pred, graph_on=False):\n",
        "    loss_length = len(Y_real.values.flatten()) - len(Y_pred)\n",
        "    if loss_length != 0:\n",
        "        Y_real = Y_real[loss_length:]\n",
        "    if graph_on == True:\n",
        "        pd.concat([Y_real, pd.DataFrame(Y_pred, index=Y_real.index, columns=['prediction'])], axis=1).plot(kind='line', figsize=(20,6),\n",
        "                                                                                                           xlim=(Y_real.index.min(),Y_real.index.max()),\n",
        "                                                                                                           linewidth=3, fontsize=20)\n",
        "        plt.title('Time Series of Target', fontsize=20)\n",
        "        plt.xlabel('Index', fontsize=15)\n",
        "        plt.ylabel('Target Value', fontsize=15)\n",
        "    MAE = abs(Y_real.values.flatten() - Y_pred).mean()\n",
        "    MSE = ((Y_real.values.flatten() - Y_pred)**2).mean()\n",
        "    MAPE = (abs(Y_real.values.flatten() - Y_pred)/Y_real.values.flatten()*100).mean()\n",
        "    Score = pd.DataFrame([MAE, MSE, MAPE], index=['MAE', 'MSE', 'MAPE'], columns=['Score']).T\n",
        "    Residual = pd.DataFrame(Y_real.values.flatten() - Y_pred, index=Y_real.index, columns=['Error'])\n",
        "    return Score, Residual\n",
        "\n",
        "\n",
        "def evaluation_trte(Y_real_tr, Y_pred_tr, Y_real_te, Y_pred_te, graph_on=False):\n",
        "    Score_tr, Residual_tr = evaluation(Y_real_tr, Y_pred_tr, graph_on=graph_on)\n",
        "    Score_te, Residual_te = evaluation(Y_real_te, Y_pred_te, graph_on=graph_on)\n",
        "    Score_trte = pd.concat([Score_tr, Score_te], axis=0)\n",
        "    Score_trte.index = ['Train', 'Test']\n",
        "    return Score_trte, Residual_tr, Residual_te"
      ],
      "execution_count": 46,
      "outputs": []
    },
    {
      "cell_type": "markdown",
      "metadata": {
        "id": "qtyg-opuCyk2"
      },
      "source": [
        "- hyperparameter 튜닝 (Optuna)"
      ]
    },
    {
      "cell_type": "code",
      "metadata": {
        "colab": {
          "base_uri": "https://localhost:8080/"
        },
        "id": "ysDkP_jK0FB0",
        "outputId": "2d006d9c-ee52-4c57-abcb-7d5f7c969d4b"
      },
      "source": [
        "def objectiveXGB(trial: Trial) :\n",
        "    params = {\n",
        "        \"random_state\": 42,\n",
        "        \"learning_rate\": trial.suggest_loguniform('learning_rate' ,1e-3, 1e-1),\n",
        "        \"n_estimators\": trial.suggest_int('n_estimators',100,1000),\n",
        "        \"max_depth\": trial.suggest_int(\"max_depth\", 1, 20),\n",
        "        \"colsample_bytree\": trial.suggest_float(\"colsample_bytree\", 0.4, 1.0),\n",
        "        \"subsample\": trial.suggest_float(\"subsample\", 0.3, 1.0),\n",
        "        \"min_child_weight\": trial.suggest_int(\"min_child_weight\", 1, 300),\n",
        "    }\n",
        "    \n",
        "    model = XGBRegressor(**params)\n",
        "    model.fit(\n",
        "        X_train_op,\n",
        "        Y_train_op,\n",
        "        eval_set=[(X_train_op, Y_train_op), (X_val_op, Y_val_op)],\n",
        "        early_stopping_rounds=100,\n",
        "        verbose=False,\n",
        "    )\n",
        "\n",
        "    xgb_pred = model.predict(X_val_op)\n",
        "    score = mean_squared_error(Y_val_op, xgb_pred)\n",
        "    \n",
        "    return score\n",
        "\n",
        "\n",
        "sampler = TPESampler(seed=42)\n",
        "study = optuna.create_study(\n",
        "    study_name=\"xgb_parameter_opt\",\n",
        "    direction=\"minimize\",\n",
        "    sampler=sampler)\n",
        "\n",
        "study.optimize(objectiveXGB, n_trials=30)\n",
        "print(\"Best Score:\", study.best_value)\n",
        "print(\"Best trial:\", study.best_trial.params)"
      ],
      "execution_count": 91,
      "outputs": [
        {
          "output_type": "stream",
          "text": [
            "\u001b[32m[I 2021-07-27 14:01:43,347]\u001b[0m A new study created in memory with name: xgb_parameter_opt\u001b[0m\n"
          ],
          "name": "stderr"
        },
        {
          "output_type": "stream",
          "text": [
            "[14:01:43] WARNING: /workspace/src/objective/regression_obj.cu:152: reg:linear is now deprecated in favor of reg:squarederror.\n"
          ],
          "name": "stdout"
        },
        {
          "output_type": "stream",
          "text": [
            "\u001b[32m[I 2021-07-27 14:01:45,028]\u001b[0m Trial 0 finished with value: 1447.7516218662263 and parameters: {'learning_rate': 0.005611516415334507, 'n_estimators': 956, 'max_depth': 15, 'colsample_bytree': 0.759195090518222, 'subsample': 0.40921304830970556, 'min_child_weight': 47}. Best is trial 0 with value: 1447.7516218662263.\u001b[0m\n"
          ],
          "name": "stderr"
        },
        {
          "output_type": "stream",
          "text": [
            "[14:01:45] WARNING: /workspace/src/objective/regression_obj.cu:152: reg:linear is now deprecated in favor of reg:squarederror.\n"
          ],
          "name": "stdout"
        },
        {
          "output_type": "stream",
          "text": [
            "\u001b[32m[I 2021-07-27 14:01:46,598]\u001b[0m Trial 1 finished with value: 616511.7695675492 and parameters: {'learning_rate': 0.0013066739238053278, 'n_estimators': 880, 'max_depth': 13, 'colsample_bytree': 0.8248435466776274, 'subsample': 0.3144091460070617, 'min_child_weight': 291}. Best is trial 0 with value: 1447.7516218662263.\u001b[0m\n"
          ],
          "name": "stderr"
        },
        {
          "output_type": "stream",
          "text": [
            "[14:01:46] WARNING: /workspace/src/objective/regression_obj.cu:152: reg:linear is now deprecated in favor of reg:squarederror.\n"
          ],
          "name": "stdout"
        },
        {
          "output_type": "stream",
          "text": [
            "\u001b[32m[I 2021-07-27 14:01:46,889]\u001b[0m Trial 2 finished with value: 40678.7193377018 and parameters: {'learning_rate': 0.04622589001020832, 'n_estimators': 291, 'max_depth': 4, 'colsample_bytree': 0.5100427059120604, 'subsample': 0.5129695700716763, 'min_child_weight': 158}. Best is trial 0 with value: 1447.7516218662263.\u001b[0m\n"
          ],
          "name": "stderr"
        },
        {
          "output_type": "stream",
          "text": [
            "[14:01:46] WARNING: /workspace/src/objective/regression_obj.cu:152: reg:linear is now deprecated in favor of reg:squarederror.\n"
          ],
          "name": "stdout"
        },
        {
          "output_type": "stream",
          "text": [
            "\u001b[32m[I 2021-07-27 14:01:47,710]\u001b[0m Trial 3 finished with value: 26800.238151884078 and parameters: {'learning_rate': 0.007309539835912915, 'n_estimators': 362, 'max_depth': 13, 'colsample_bytree': 0.4836963163912251, 'subsample': 0.5045012539746527, 'min_child_weight': 110}. Best is trial 0 with value: 1447.7516218662263.\u001b[0m\n"
          ],
          "name": "stderr"
        },
        {
          "output_type": "stream",
          "text": [
            "[14:01:47] WARNING: /workspace/src/objective/regression_obj.cu:152: reg:linear is now deprecated in favor of reg:squarederror.\n"
          ],
          "name": "stdout"
        },
        {
          "output_type": "stream",
          "text": [
            "\u001b[32m[I 2021-07-27 14:01:49,268]\u001b[0m Trial 4 finished with value: 571.7373285293579 and parameters: {'learning_rate': 0.008168455894760165, 'n_estimators': 807, 'max_depth': 4, 'colsample_bytree': 0.708540663048167, 'subsample': 0.7146901982034297, 'min_child_weight': 14}. Best is trial 4 with value: 571.7373285293579.\u001b[0m\n"
          ],
          "name": "stderr"
        },
        {
          "output_type": "stream",
          "text": [
            "[14:01:49] WARNING: /workspace/src/objective/regression_obj.cu:152: reg:linear is now deprecated in favor of reg:squarederror.\n"
          ],
          "name": "stdout"
        },
        {
          "output_type": "stream",
          "text": [
            "\u001b[32m[I 2021-07-27 14:01:49,700]\u001b[0m Trial 5 finished with value: 30190.05439629555 and parameters: {'learning_rate': 0.016409286730647923, 'n_estimators': 253, 'max_depth': 2, 'colsample_bytree': 0.9693313223519999, 'subsample': 0.9759424231521916, 'min_child_weight': 243}. Best is trial 4 with value: 571.7373285293579.\u001b[0m\n"
          ],
          "name": "stderr"
        },
        {
          "output_type": "stream",
          "text": [
            "[14:01:49] WARNING: /workspace/src/objective/regression_obj.cu:152: reg:linear is now deprecated in favor of reg:squarederror.\n"
          ],
          "name": "stdout"
        },
        {
          "output_type": "stream",
          "text": [
            "\u001b[32m[I 2021-07-27 14:01:50,098]\u001b[0m Trial 6 finished with value: 3730081.297617507 and parameters: {'learning_rate': 0.0040665633135147945, 'n_estimators': 188, 'max_depth': 14, 'colsample_bytree': 0.6640914962437607, 'subsample': 0.38542676439134516, 'min_child_weight': 149}. Best is trial 4 with value: 571.7373285293579.\u001b[0m\n"
          ],
          "name": "stderr"
        },
        {
          "output_type": "stream",
          "text": [
            "[14:01:50] WARNING: /workspace/src/objective/regression_obj.cu:152: reg:linear is now deprecated in favor of reg:squarederror.\n"
          ],
          "name": "stdout"
        },
        {
          "output_type": "stream",
          "text": [
            "\u001b[32m[I 2021-07-27 14:01:52,229]\u001b[0m Trial 7 finished with value: 514688.04540430306 and parameters: {'learning_rate': 0.001171593739230706, 'n_estimators': 919, 'max_depth': 6, 'colsample_bytree': 0.7975133706123891, 'subsample': 0.5181977532625877, 'min_child_weight': 157}. Best is trial 4 with value: 571.7373285293579.\u001b[0m\n"
          ],
          "name": "stderr"
        },
        {
          "output_type": "stream",
          "text": [
            "[14:01:52] WARNING: /workspace/src/objective/regression_obj.cu:152: reg:linear is now deprecated in favor of reg:squarederror.\n"
          ],
          "name": "stdout"
        },
        {
          "output_type": "stream",
          "text": [
            "\u001b[32m[I 2021-07-27 14:01:52,749]\u001b[0m Trial 8 finished with value: 38210.03304767609 and parameters: {'learning_rate': 0.0123999678368461, 'n_estimators': 266, 'max_depth': 20, 'colsample_bytree': 0.8650796940166687, 'subsample': 0.9576492590949324, 'min_child_weight': 269}. Best is trial 4 with value: 571.7373285293579.\u001b[0m\n"
          ],
          "name": "stderr"
        },
        {
          "output_type": "stream",
          "text": [
            "[14:01:52] WARNING: /workspace/src/objective/regression_obj.cu:152: reg:linear is now deprecated in favor of reg:squarederror.\n"
          ],
          "name": "stdout"
        },
        {
          "output_type": "stream",
          "text": [
            "\u001b[32m[I 2021-07-27 14:01:53,141]\u001b[0m Trial 9 finished with value: 37725.77298736572 and parameters: {'learning_rate': 0.015696396388661146, 'n_estimators': 930, 'max_depth': 2, 'colsample_bytree': 0.5175897174514872, 'subsample': 0.33165910223737666, 'min_child_weight': 98}. Best is trial 4 with value: 571.7373285293579.\u001b[0m\n"
          ],
          "name": "stderr"
        },
        {
          "output_type": "stream",
          "text": [
            "[14:01:53] WARNING: /workspace/src/objective/regression_obj.cu:152: reg:linear is now deprecated in favor of reg:squarederror.\n"
          ],
          "name": "stdout"
        },
        {
          "output_type": "stream",
          "text": [
            "\u001b[32m[I 2021-07-27 14:01:53,630]\u001b[0m Trial 10 finished with value: 1759.3411299705506 and parameters: {'learning_rate': 0.0843164577397743, 'n_estimators': 708, 'max_depth': 7, 'colsample_bytree': 0.6559930962084657, 'subsample': 0.8006187285377566, 'min_child_weight': 7}. Best is trial 4 with value: 571.7373285293579.\u001b[0m\n"
          ],
          "name": "stderr"
        },
        {
          "output_type": "stream",
          "text": [
            "[14:01:53] WARNING: /workspace/src/objective/regression_obj.cu:152: reg:linear is now deprecated in favor of reg:squarederror.\n"
          ],
          "name": "stdout"
        },
        {
          "output_type": "stream",
          "text": [
            "\u001b[32m[I 2021-07-27 14:01:55,709]\u001b[0m Trial 11 finished with value: 172064.02215510607 and parameters: {'learning_rate': 0.0032425517614221764, 'n_estimators': 697, 'max_depth': 19, 'colsample_bytree': 0.7319387651769488, 'subsample': 0.7449433813607633, 'min_child_weight': 14}. Best is trial 4 with value: 571.7373285293579.\u001b[0m\n"
          ],
          "name": "stderr"
        },
        {
          "output_type": "stream",
          "text": [
            "[14:01:55] WARNING: /workspace/src/objective/regression_obj.cu:152: reg:linear is now deprecated in favor of reg:squarederror.\n"
          ],
          "name": "stdout"
        },
        {
          "output_type": "stream",
          "text": [
            "\u001b[32m[I 2021-07-27 14:01:57,732]\u001b[0m Trial 12 finished with value: 16423.36423172951 and parameters: {'learning_rate': 0.004186883840510776, 'n_estimators': 742, 'max_depth': 17, 'colsample_bytree': 0.6209786706637112, 'subsample': 0.668224095312702, 'min_child_weight': 57}. Best is trial 4 with value: 571.7373285293579.\u001b[0m\n"
          ],
          "name": "stderr"
        },
        {
          "output_type": "stream",
          "text": [
            "[14:01:57] WARNING: /workspace/src/objective/regression_obj.cu:152: reg:linear is now deprecated in favor of reg:squarederror.\n"
          ],
          "name": "stdout"
        },
        {
          "output_type": "stream",
          "text": [
            "\u001b[32m[I 2021-07-27 14:01:58,675]\u001b[0m Trial 13 finished with value: 686.6381571769714 and parameters: {'learning_rate': 0.029888008228755973, 'n_estimators': 514, 'max_depth': 9, 'colsample_bytree': 0.9913272298120274, 'subsample': 0.881362302658839, 'min_child_weight': 47}. Best is trial 4 with value: 571.7373285293579.\u001b[0m\n"
          ],
          "name": "stderr"
        },
        {
          "output_type": "stream",
          "text": [
            "[14:01:58] WARNING: /workspace/src/objective/regression_obj.cu:152: reg:linear is now deprecated in favor of reg:squarederror.\n"
          ],
          "name": "stdout"
        },
        {
          "output_type": "stream",
          "text": [
            "\u001b[32m[I 2021-07-27 14:01:59,707]\u001b[0m Trial 14 finished with value: 1507.9939051628112 and parameters: {'learning_rate': 0.032281156259751836, 'n_estimators': 473, 'max_depth': 9, 'colsample_bytree': 0.9933578731577521, 'subsample': 0.8536646040520228, 'min_child_weight': 4}. Best is trial 4 with value: 571.7373285293579.\u001b[0m\n"
          ],
          "name": "stderr"
        },
        {
          "output_type": "stream",
          "text": [
            "[14:01:59] WARNING: /workspace/src/objective/regression_obj.cu:152: reg:linear is now deprecated in favor of reg:squarederror.\n"
          ],
          "name": "stdout"
        },
        {
          "output_type": "stream",
          "text": [
            "\u001b[32m[I 2021-07-27 14:02:00,763]\u001b[0m Trial 15 finished with value: 521.1510699272155 and parameters: {'learning_rate': 0.028228964086860545, 'n_estimators': 552, 'max_depth': 9, 'colsample_bytree': 0.9055025740780626, 'subsample': 0.8872917860523398, 'min_child_weight': 55}. Best is trial 15 with value: 521.1510699272155.\u001b[0m\n"
          ],
          "name": "stderr"
        },
        {
          "output_type": "stream",
          "text": [
            "[14:02:00] WARNING: /workspace/src/objective/regression_obj.cu:152: reg:linear is now deprecated in favor of reg:squarederror.\n"
          ],
          "name": "stdout"
        },
        {
          "output_type": "stream",
          "text": [
            "\u001b[32m[I 2021-07-27 14:02:01,165]\u001b[0m Trial 16 finished with value: 5388.870256996155 and parameters: {'learning_rate': 0.08875511724692428, 'n_estimators': 633, 'max_depth': 5, 'colsample_bytree': 0.8935209602476667, 'subsample': 0.6838849844375581, 'min_child_weight': 85}. Best is trial 15 with value: 521.1510699272155.\u001b[0m\n"
          ],
          "name": "stderr"
        },
        {
          "output_type": "stream",
          "text": [
            "[14:02:01] WARNING: /workspace/src/objective/regression_obj.cu:152: reg:linear is now deprecated in favor of reg:squarederror.\n"
          ],
          "name": "stdout"
        },
        {
          "output_type": "stream",
          "text": [
            "\u001b[32m[I 2021-07-27 14:02:01,945]\u001b[0m Trial 17 finished with value: 567.6334931850433 and parameters: {'learning_rate': 0.023264460065759652, 'n_estimators': 809, 'max_depth': 9, 'colsample_bytree': 0.577572408413855, 'subsample': 0.5938809144458327, 'min_child_weight': 30}. Best is trial 15 with value: 521.1510699272155.\u001b[0m\n"
          ],
          "name": "stderr"
        },
        {
          "output_type": "stream",
          "text": [
            "[14:02:01] WARNING: /workspace/src/objective/regression_obj.cu:152: reg:linear is now deprecated in favor of reg:squarederror.\n"
          ],
          "name": "stdout"
        },
        {
          "output_type": "stream",
          "text": [
            "\u001b[32m[I 2021-07-27 14:02:02,240]\u001b[0m Trial 18 finished with value: 38489.117878198624 and parameters: {'learning_rate': 0.04311660790907897, 'n_estimators': 590, 'max_depth': 11, 'colsample_bytree': 0.4124198070634534, 'subsample': 0.5816991526515977, 'min_child_weight': 213}. Best is trial 15 with value: 521.1510699272155.\u001b[0m\n"
          ],
          "name": "stderr"
        },
        {
          "output_type": "stream",
          "text": [
            "[14:02:02] WARNING: /workspace/src/objective/regression_obj.cu:152: reg:linear is now deprecated in favor of reg:squarederror.\n"
          ],
          "name": "stdout"
        },
        {
          "output_type": "stream",
          "text": [
            "\u001b[32m[I 2021-07-27 14:02:02,858]\u001b[0m Trial 19 finished with value: 7238.491327619553 and parameters: {'learning_rate': 0.02390590259420457, 'n_estimators': 465, 'max_depth': 10, 'colsample_bytree': 0.5757034382624481, 'subsample': 0.6059500008835149, 'min_child_weight': 67}. Best is trial 15 with value: 521.1510699272155.\u001b[0m\n"
          ],
          "name": "stderr"
        },
        {
          "output_type": "stream",
          "text": [
            "[14:02:02] WARNING: /workspace/src/objective/regression_obj.cu:152: reg:linear is now deprecated in favor of reg:squarederror.\n"
          ],
          "name": "stdout"
        },
        {
          "output_type": "stream",
          "text": [
            "\u001b[32m[I 2021-07-27 14:02:03,225]\u001b[0m Trial 20 finished with value: 46145.50967360735 and parameters: {'learning_rate': 0.047984866304561516, 'n_estimators': 817, 'max_depth': 8, 'colsample_bytree': 0.5802043784322503, 'subsample': 0.778155271164355, 'min_child_weight': 133}. Best is trial 15 with value: 521.1510699272155.\u001b[0m\n"
          ],
          "name": "stderr"
        },
        {
          "output_type": "stream",
          "text": [
            "[14:02:03] WARNING: /workspace/src/objective/regression_obj.cu:152: reg:linear is now deprecated in favor of reg:squarederror.\n"
          ],
          "name": "stdout"
        },
        {
          "output_type": "stream",
          "text": [
            "\u001b[32m[I 2021-07-27 14:02:05,168]\u001b[0m Trial 21 finished with value: 576.6338548183442 and parameters: {'learning_rate': 0.00906021212827584, 'n_estimators': 810, 'max_depth': 11, 'colsample_bytree': 0.9204270360146245, 'subsample': 0.7068281449722851, 'min_child_weight': 21}. Best is trial 15 with value: 521.1510699272155.\u001b[0m\n"
          ],
          "name": "stderr"
        },
        {
          "output_type": "stream",
          "text": [
            "[14:02:05] WARNING: /workspace/src/objective/regression_obj.cu:152: reg:linear is now deprecated in favor of reg:squarederror.\n"
          ],
          "name": "stdout"
        },
        {
          "output_type": "stream",
          "text": [
            "\u001b[32m[I 2021-07-27 14:02:05,750]\u001b[0m Trial 22 finished with value: 946.6816492080688 and parameters: {'learning_rate': 0.019523401839247334, 'n_estimators': 997, 'max_depth': 3, 'colsample_bytree': 0.4047841921241534, 'subsample': 0.9061481815544549, 'min_child_weight': 35}. Best is trial 15 with value: 521.1510699272155.\u001b[0m\n"
          ],
          "name": "stderr"
        },
        {
          "output_type": "stream",
          "text": [
            "[14:02:05] WARNING: /workspace/src/objective/regression_obj.cu:152: reg:linear is now deprecated in favor of reg:squarederror.\n"
          ],
          "name": "stdout"
        },
        {
          "output_type": "stream",
          "text": [
            "\u001b[32m[I 2021-07-27 14:02:06,674]\u001b[0m Trial 23 finished with value: 1893.400101184845 and parameters: {'learning_rate': 0.011663843442191913, 'n_estimators': 815, 'max_depth': 6, 'colsample_bytree': 0.710637753088784, 'subsample': 0.5905223317059498, 'min_child_weight': 78}. Best is trial 15 with value: 521.1510699272155.\u001b[0m\n"
          ],
          "name": "stderr"
        },
        {
          "output_type": "stream",
          "text": [
            "[14:02:06] WARNING: /workspace/src/objective/regression_obj.cu:152: reg:linear is now deprecated in favor of reg:squarederror.\n"
          ],
          "name": "stdout"
        },
        {
          "output_type": "stream",
          "text": [
            "\u001b[32m[I 2021-07-27 14:02:08,275]\u001b[0m Trial 24 finished with value: 980029.7068140864 and parameters: {'learning_rate': 0.0023372928569047836, 'n_estimators': 629, 'max_depth': 7, 'colsample_bytree': 0.4558882431417132, 'subsample': 0.6367428065878137, 'min_child_weight': 3}. Best is trial 15 with value: 521.1510699272155.\u001b[0m\n"
          ],
          "name": "stderr"
        },
        {
          "output_type": "stream",
          "text": [
            "[14:02:08] WARNING: /workspace/src/objective/regression_obj.cu:152: reg:linear is now deprecated in favor of reg:squarederror.\n"
          ],
          "name": "stdout"
        },
        {
          "output_type": "stream",
          "text": [
            "\u001b[32m[I 2021-07-27 14:02:10,043]\u001b[0m Trial 25 finished with value: 752.4868625164032 and parameters: {'learning_rate': 0.007311051847039388, 'n_estimators': 756, 'max_depth': 12, 'colsample_bytree': 0.5611881265649352, 'subsample': 0.8301880891300408, 'min_child_weight': 24}. Best is trial 15 with value: 521.1510699272155.\u001b[0m\n"
          ],
          "name": "stderr"
        },
        {
          "output_type": "stream",
          "text": [
            "[14:02:10] WARNING: /workspace/src/objective/regression_obj.cu:152: reg:linear is now deprecated in favor of reg:squarederror.\n"
          ],
          "name": "stdout"
        },
        {
          "output_type": "stream",
          "text": [
            "\u001b[32m[I 2021-07-27 14:02:10,397]\u001b[0m Trial 26 finished with value: 24758.846460437773 and parameters: {'learning_rate': 0.05769477180078327, 'n_estimators': 866, 'max_depth': 4, 'colsample_bytree': 0.6595585003247464, 'subsample': 0.7217584508643685, 'min_child_weight': 116}. Best is trial 15 with value: 521.1510699272155.\u001b[0m\n"
          ],
          "name": "stderr"
        },
        {
          "output_type": "stream",
          "text": [
            "[14:02:10] WARNING: /workspace/src/objective/regression_obj.cu:152: reg:linear is now deprecated in favor of reg:squarederror.\n"
          ],
          "name": "stdout"
        },
        {
          "output_type": "stream",
          "text": [
            "\u001b[32m[I 2021-07-27 14:02:11,303]\u001b[0m Trial 27 finished with value: 594.462729215622 and parameters: {'learning_rate': 0.02523527586845677, 'n_estimators': 398, 'max_depth': 9, 'colsample_bytree': 0.7769048543930004, 'subsample': 0.9385478353303521, 'min_child_weight': 41}. Best is trial 15 with value: 521.1510699272155.\u001b[0m\n"
          ],
          "name": "stderr"
        },
        {
          "output_type": "stream",
          "text": [
            "[14:02:11] WARNING: /workspace/src/objective/regression_obj.cu:152: reg:linear is now deprecated in favor of reg:squarederror.\n"
          ],
          "name": "stdout"
        },
        {
          "output_type": "stream",
          "text": [
            "\u001b[32m[I 2021-07-27 14:02:11,715]\u001b[0m Trial 28 finished with value: 82283.68787599802 and parameters: {'learning_rate': 0.018301085974794767, 'n_estimators': 557, 'max_depth': 1, 'colsample_bytree': 0.8443435908398043, 'subsample': 0.4616989546874646, 'min_child_weight': 195}. Best is trial 15 with value: 521.1510699272155.\u001b[0m\n"
          ],
          "name": "stderr"
        },
        {
          "output_type": "stream",
          "text": [
            "[14:02:11] WARNING: /workspace/src/objective/regression_obj.cu:152: reg:linear is now deprecated in favor of reg:squarederror.\n"
          ],
          "name": "stdout"
        },
        {
          "output_type": "stream",
          "text": [
            "\u001b[32m[I 2021-07-27 14:02:12,328]\u001b[0m Trial 29 finished with value: 8639.456411504745 and parameters: {'learning_rate': 0.06837843839811969, 'n_estimators': 987, 'max_depth': 16, 'colsample_bytree': 0.744500891873773, 'subsample': 0.7543826928148194, 'min_child_weight': 56}. Best is trial 15 with value: 521.1510699272155.\u001b[0m\n"
          ],
          "name": "stderr"
        },
        {
          "output_type": "stream",
          "text": [
            "[14:02:12] WARNING: /workspace/src/objective/regression_obj.cu:152: reg:linear is now deprecated in favor of reg:squarederror.\n"
          ],
          "name": "stdout"
        },
        {
          "output_type": "stream",
          "text": [
            "\u001b[32m[I 2021-07-27 14:02:12,665]\u001b[0m Trial 30 finished with value: 2158.906233930588 and parameters: {'learning_rate': 0.035528183684717635, 'n_estimators': 100, 'max_depth': 7, 'colsample_bytree': 0.9331222094178325, 'subsample': 0.6350187757544575, 'min_child_weight': 33}. Best is trial 15 with value: 521.1510699272155.\u001b[0m\n"
          ],
          "name": "stderr"
        },
        {
          "output_type": "stream",
          "text": [
            "[14:02:12] WARNING: /workspace/src/objective/regression_obj.cu:152: reg:linear is now deprecated in favor of reg:squarederror.\n"
          ],
          "name": "stdout"
        },
        {
          "output_type": "stream",
          "text": [
            "\u001b[32m[I 2021-07-27 14:02:15,223]\u001b[0m Trial 31 finished with value: 775.4408704280853 and parameters: {'learning_rate': 0.007349599234881101, 'n_estimators': 797, 'max_depth': 11, 'colsample_bytree': 0.9076026241953918, 'subsample': 0.7037915946098872, 'min_child_weight': 1}. Best is trial 15 with value: 521.1510699272155.\u001b[0m\n"
          ],
          "name": "stderr"
        },
        {
          "output_type": "stream",
          "text": [
            "[14:02:15] WARNING: /workspace/src/objective/regression_obj.cu:152: reg:linear is now deprecated in favor of reg:squarederror.\n"
          ],
          "name": "stdout"
        },
        {
          "output_type": "stream",
          "text": [
            "\u001b[32m[I 2021-07-27 14:02:16,916]\u001b[0m Trial 32 finished with value: 892.1077358722687 and parameters: {'learning_rate': 0.010059896310773865, 'n_estimators': 866, 'max_depth': 12, 'colsample_bytree': 0.8132789161913522, 'subsample': 0.8055342126446318, 'min_child_weight': 25}. Best is trial 15 with value: 521.1510699272155.\u001b[0m\n"
          ],
          "name": "stderr"
        },
        {
          "output_type": "stream",
          "text": [
            "[14:02:16] WARNING: /workspace/src/objective/regression_obj.cu:152: reg:linear is now deprecated in favor of reg:squarederror.\n"
          ],
          "name": "stdout"
        },
        {
          "output_type": "stream",
          "text": [
            "\u001b[32m[I 2021-07-27 14:02:18,639]\u001b[0m Trial 33 finished with value: 8877.915903043748 and parameters: {'learning_rate': 0.005384335976437363, 'n_estimators': 662, 'max_depth': 10, 'colsample_bytree': 0.9414843756747182, 'subsample': 0.5376252772438679, 'min_child_weight': 77}. Best is trial 15 with value: 521.1510699272155.\u001b[0m\n"
          ],
          "name": "stderr"
        },
        {
          "output_type": "stream",
          "text": [
            "[14:02:18] WARNING: /workspace/src/objective/regression_obj.cu:152: reg:linear is now deprecated in favor of reg:squarederror.\n"
          ],
          "name": "stdout"
        },
        {
          "output_type": "stream",
          "text": [
            "\u001b[32m[I 2021-07-27 14:02:20,560]\u001b[0m Trial 34 finished with value: 575.2108092784881 and parameters: {'learning_rate': 0.008846703323817352, 'n_estimators': 781, 'max_depth': 14, 'colsample_bytree': 0.8793550079073219, 'subsample': 0.4505174533547684, 'min_child_weight': 20}. Best is trial 15 with value: 521.1510699272155.\u001b[0m\n"
          ],
          "name": "stderr"
        },
        {
          "output_type": "stream",
          "text": [
            "[14:02:20] WARNING: /workspace/src/objective/regression_obj.cu:152: reg:linear is now deprecated in favor of reg:squarederror.\n"
          ],
          "name": "stdout"
        },
        {
          "output_type": "stream",
          "text": [
            "\u001b[32m[I 2021-07-27 14:02:21,494]\u001b[0m Trial 35 finished with value: 2272.7574201107027 and parameters: {'learning_rate': 0.013591604395317772, 'n_estimators': 911, 'max_depth': 14, 'colsample_bytree': 0.8692394795744088, 'subsample': 0.44290447692010726, 'min_child_weight': 50}. Best is trial 15 with value: 521.1510699272155.\u001b[0m\n"
          ],
          "name": "stderr"
        },
        {
          "output_type": "stream",
          "text": [
            "[14:02:21] WARNING: /workspace/src/objective/regression_obj.cu:152: reg:linear is now deprecated in favor of reg:squarederror.\n"
          ],
          "name": "stdout"
        },
        {
          "output_type": "stream",
          "text": [
            "\u001b[32m[I 2021-07-27 14:02:22,833]\u001b[0m Trial 36 finished with value: 14530.777459812165 and parameters: {'learning_rate': 0.005471695639964229, 'n_estimators': 755, 'max_depth': 17, 'colsample_bytree': 0.7659796816348861, 'subsample': 0.3966683146243247, 'min_child_weight': 65}. Best is trial 15 with value: 521.1510699272155.\u001b[0m\n"
          ],
          "name": "stderr"
        },
        {
          "output_type": "stream",
          "text": [
            "[14:02:22] WARNING: /workspace/src/objective/regression_obj.cu:152: reg:linear is now deprecated in favor of reg:squarederror.\n"
          ],
          "name": "stdout"
        },
        {
          "output_type": "stream",
          "text": [
            "\u001b[32m[I 2021-07-27 14:02:23,329]\u001b[0m Trial 37 finished with value: 29214.75135011673 and parameters: {'learning_rate': 0.02342686333837007, 'n_estimators': 692, 'max_depth': 14, 'colsample_bytree': 0.6195719913410768, 'subsample': 0.5381505145411039, 'min_child_weight': 90}. Best is trial 15 with value: 521.1510699272155.\u001b[0m\n"
          ],
          "name": "stderr"
        },
        {
          "output_type": "stream",
          "text": [
            "[14:02:23] WARNING: /workspace/src/objective/regression_obj.cu:152: reg:linear is now deprecated in favor of reg:squarederror.\n"
          ],
          "name": "stdout"
        },
        {
          "output_type": "stream",
          "text": [
            "\u001b[32m[I 2021-07-27 14:02:25,663]\u001b[0m Trial 38 finished with value: 682243.8585225344 and parameters: {'learning_rate': 0.0019561629755364307, 'n_estimators': 862, 'max_depth': 13, 'colsample_bytree': 0.9632223077756619, 'subsample': 0.3251404289656566, 'min_child_weight': 1}. Best is trial 15 with value: 521.1510699272155.\u001b[0m\n"
          ],
          "name": "stderr"
        },
        {
          "output_type": "stream",
          "text": [
            "[14:02:25] WARNING: /workspace/src/objective/regression_obj.cu:152: reg:linear is now deprecated in favor of reg:squarederror.\n"
          ],
          "name": "stdout"
        },
        {
          "output_type": "stream",
          "text": [
            "\u001b[32m[I 2021-07-27 14:02:26,407]\u001b[0m Trial 39 finished with value: 21722.097652959823 and parameters: {'learning_rate': 0.009146778370165204, 'n_estimators': 359, 'max_depth': 5, 'colsample_bytree': 0.6990664506743816, 'subsample': 0.46948867414119544, 'min_child_weight': 111}. Best is trial 15 with value: 521.1510699272155.\u001b[0m\n"
          ],
          "name": "stderr"
        },
        {
          "output_type": "stream",
          "text": [
            "[14:02:26] WARNING: /workspace/src/objective/regression_obj.cu:152: reg:linear is now deprecated in favor of reg:squarederror.\n"
          ],
          "name": "stdout"
        },
        {
          "output_type": "stream",
          "text": [
            "\u001b[32m[I 2021-07-27 14:02:27,482]\u001b[0m Trial 40 finished with value: 889.4838656425476 and parameters: {'learning_rate': 0.013396663405861474, 'n_estimators': 951, 'max_depth': 16, 'colsample_bytree': 0.5319045115810718, 'subsample': 0.9881574998077699, 'min_child_weight': 37}. Best is trial 15 with value: 521.1510699272155.\u001b[0m\n"
          ],
          "name": "stderr"
        },
        {
          "output_type": "stream",
          "text": [
            "[14:02:27] WARNING: /workspace/src/objective/regression_obj.cu:152: reg:linear is now deprecated in favor of reg:squarederror.\n"
          ],
          "name": "stdout"
        },
        {
          "output_type": "stream",
          "text": [
            "\u001b[32m[I 2021-07-27 14:02:29,509]\u001b[0m Trial 41 finished with value: 671.3209767341614 and parameters: {'learning_rate': 0.008545514054777976, 'n_estimators': 809, 'max_depth': 12, 'colsample_bytree': 0.9057536817819817, 'subsample': 0.5597333003206163, 'min_child_weight': 19}. Best is trial 15 with value: 521.1510699272155.\u001b[0m\n"
          ],
          "name": "stderr"
        },
        {
          "output_type": "stream",
          "text": [
            "[14:02:29] WARNING: /workspace/src/objective/regression_obj.cu:152: reg:linear is now deprecated in favor of reg:squarederror.\n"
          ],
          "name": "stdout"
        },
        {
          "output_type": "stream",
          "text": [
            "\u001b[32m[I 2021-07-27 14:02:32,072]\u001b[0m Trial 42 finished with value: 538.3127766132354 and parameters: {'learning_rate': 0.006383955361345092, 'n_estimators': 771, 'max_depth': 15, 'colsample_bytree': 0.8699487565143507, 'subsample': 0.624364839738793, 'min_child_weight': 18}. Best is trial 15 with value: 521.1510699272155.\u001b[0m\n"
          ],
          "name": "stderr"
        },
        {
          "output_type": "stream",
          "text": [
            "[14:02:32] WARNING: /workspace/src/objective/regression_obj.cu:152: reg:linear is now deprecated in favor of reg:squarederror.\n"
          ],
          "name": "stdout"
        },
        {
          "output_type": "stream",
          "text": [
            "\u001b[32m[I 2021-07-27 14:02:34,308]\u001b[0m Trial 43 finished with value: 18300.746984624864 and parameters: {'learning_rate': 0.00427558409711022, 'n_estimators': 734, 'max_depth': 15, 'colsample_bytree': 0.8350118152600595, 'subsample': 0.49829121527234993, 'min_child_weight': 15}. Best is trial 15 with value: 521.1510699272155.\u001b[0m\n"
          ],
          "name": "stderr"
        },
        {
          "output_type": "stream",
          "text": [
            "[14:02:34] WARNING: /workspace/src/objective/regression_obj.cu:152: reg:linear is now deprecated in favor of reg:squarederror.\n"
          ],
          "name": "stdout"
        },
        {
          "output_type": "stream",
          "text": [
            "\u001b[32m[I 2021-07-27 14:02:36,431]\u001b[0m Trial 44 finished with value: 4274.620256900787 and parameters: {'learning_rate': 0.006218121139377006, 'n_estimators': 656, 'max_depth': 18, 'colsample_bytree': 0.8846222548459538, 'subsample': 0.6227734231504904, 'min_child_weight': 44}. Best is trial 15 with value: 521.1510699272155.\u001b[0m\n"
          ],
          "name": "stderr"
        },
        {
          "output_type": "stream",
          "text": [
            "[14:02:36] WARNING: /workspace/src/objective/regression_obj.cu:152: reg:linear is now deprecated in favor of reg:squarederror.\n"
          ],
          "name": "stdout"
        },
        {
          "output_type": "stream",
          "text": [
            "\u001b[32m[I 2021-07-27 14:02:37,476]\u001b[0m Trial 45 finished with value: 2830.191252660751 and parameters: {'learning_rate': 0.0115964401641741, 'n_estimators': 895, 'max_depth': 15, 'colsample_bytree': 0.7968423458333732, 'subsample': 0.5689594274764948, 'min_child_weight': 64}. Best is trial 15 with value: 521.1510699272155.\u001b[0m\n"
          ],
          "name": "stderr"
        },
        {
          "output_type": "stream",
          "text": [
            "[14:02:37] WARNING: /workspace/src/objective/regression_obj.cu:152: reg:linear is now deprecated in favor of reg:squarederror.\n"
          ],
          "name": "stdout"
        },
        {
          "output_type": "stream",
          "text": [
            "\u001b[32m[I 2021-07-27 14:02:39,171]\u001b[0m Trial 46 finished with value: 885.010772228241 and parameters: {'learning_rate': 0.014992012860229557, 'n_estimators': 776, 'max_depth': 13, 'colsample_bytree': 0.8568346608935095, 'subsample': 0.5015211327224324, 'min_child_weight': 34}. Best is trial 15 with value: 521.1510699272155.\u001b[0m\n"
          ],
          "name": "stderr"
        },
        {
          "output_type": "stream",
          "text": [
            "[14:02:39] WARNING: /workspace/src/objective/regression_obj.cu:152: reg:linear is now deprecated in favor of reg:squarederror.\n"
          ],
          "name": "stdout"
        },
        {
          "output_type": "stream",
          "text": [
            "\u001b[32m[I 2021-07-27 14:02:40,250]\u001b[0m Trial 47 finished with value: 349129.5988797188 and parameters: {'learning_rate': 0.003527548807820901, 'n_estimators': 714, 'max_depth': 8, 'colsample_bytree': 0.4810893354377121, 'subsample': 0.6706628598766472, 'min_child_weight': 300}. Best is trial 15 with value: 521.1510699272155.\u001b[0m\n"
          ],
          "name": "stderr"
        },
        {
          "output_type": "stream",
          "text": [
            "[14:02:40] WARNING: /workspace/src/objective/regression_obj.cu:152: reg:linear is now deprecated in favor of reg:squarederror.\n"
          ],
          "name": "stdout"
        },
        {
          "output_type": "stream",
          "text": [
            "\u001b[32m[I 2021-07-27 14:02:41,360]\u001b[0m Trial 48 finished with value: 25650.992575263976 and parameters: {'learning_rate': 0.006413605483993644, 'n_estimators': 575, 'max_depth': 1, 'colsample_bytree': 0.9600414493918422, 'subsample': 0.651942674187582, 'min_child_weight': 11}. Best is trial 15 with value: 521.1510699272155.\u001b[0m\n"
          ],
          "name": "stderr"
        },
        {
          "output_type": "stream",
          "text": [
            "[14:02:41] WARNING: /workspace/src/objective/regression_obj.cu:152: reg:linear is now deprecated in favor of reg:squarederror.\n"
          ],
          "name": "stdout"
        },
        {
          "output_type": "stream",
          "text": [
            "\u001b[32m[I 2021-07-27 14:02:43,955]\u001b[0m Trial 49 finished with value: 4073.2400126457214 and parameters: {'learning_rate': 0.00473195235186126, 'n_estimators': 830, 'max_depth': 20, 'colsample_bytree': 0.8033135079189037, 'subsample': 0.7378801682284103, 'min_child_weight': 51}. Best is trial 15 with value: 521.1510699272155.\u001b[0m\n"
          ],
          "name": "stderr"
        },
        {
          "output_type": "stream",
          "text": [
            "Best Score: 521.1510699272155\n",
            "Best trial: {'learning_rate': 0.028228964086860545, 'n_estimators': 552, 'max_depth': 9, 'colsample_bytree': 0.9055025740780626, 'subsample': 0.8872917860523398, 'min_child_weight': 55}\n"
          ],
          "name": "stdout"
        }
      ]
    },
    {
      "cell_type": "code",
      "metadata": {
        "colab": {
          "base_uri": "https://localhost:8080/",
          "height": 542
        },
        "id": "WHOjD_jtHhzQ",
        "outputId": "247b39f0-4ced-407f-ed48-1f68143539a2"
      },
      "source": [
        "optuna.visualization.plot_param_importances(study)\n"
      ],
      "execution_count": 92,
      "outputs": [
        {
          "output_type": "display_data",
          "data": {
            "text/html": [
              "<html>\n",
              "<head><meta charset=\"utf-8\" /></head>\n",
              "<body>\n",
              "    <div>\n",
              "            <script src=\"https://cdnjs.cloudflare.com/ajax/libs/mathjax/2.7.5/MathJax.js?config=TeX-AMS-MML_SVG\"></script><script type=\"text/javascript\">if (window.MathJax) {MathJax.Hub.Config({SVG: {font: \"STIX-Web\"}});}</script>\n",
              "                <script type=\"text/javascript\">window.PlotlyConfig = {MathJaxConfig: 'local'};</script>\n",
              "        <script src=\"https://cdn.plot.ly/plotly-latest.min.js\"></script>    \n",
              "            <div id=\"c7452054-3158-47a5-b8c3-0e80819211ea\" class=\"plotly-graph-div\" style=\"height:525px; width:100%;\"></div>\n",
              "            <script type=\"text/javascript\">\n",
              "                \n",
              "                    window.PLOTLYENV=window.PLOTLYENV || {};\n",
              "                    \n",
              "                if (document.getElementById(\"c7452054-3158-47a5-b8c3-0e80819211ea\")) {\n",
              "                    Plotly.newPlot(\n",
              "                        'c7452054-3158-47a5-b8c3-0e80819211ea',\n",
              "                        [{\"cliponaxis\": false, \"hovertemplate\": [\"colsample_bytree (UniformDistribution): 0.002428377184800619<extra></extra>\", \"max_depth (IntUniformDistribution): 0.009588017026679243<extra></extra>\", \"min_child_weight (IntUniformDistribution): 0.03405153662901741<extra></extra>\", \"subsample (UniformDistribution): 0.09979009776123596<extra></extra>\", \"n_estimators (IntUniformDistribution): 0.37180481126561726<extra></extra>\", \"learning_rate (LogUniformDistribution): 0.4823371601326496<extra></extra>\"], \"marker\": {\"color\": \"rgb(66,146,198)\"}, \"orientation\": \"h\", \"text\": [\"0.002428377184800619\", \"0.009588017026679243\", \"0.03405153662901741\", \"0.09979009776123596\", \"0.37180481126561726\", \"0.4823371601326496\"], \"textposition\": \"outside\", \"texttemplate\": \"%{text:.2f}\", \"type\": \"bar\", \"x\": [0.002428377184800619, 0.009588017026679243, 0.03405153662901741, 0.09979009776123596, 0.37180481126561726, 0.4823371601326496], \"y\": [\"colsample_bytree\", \"max_depth\", \"min_child_weight\", \"subsample\", \"n_estimators\", \"learning_rate\"]}],\n",
              "                        {\"showlegend\": false, \"template\": {\"data\": {\"bar\": [{\"error_x\": {\"color\": \"#2a3f5f\"}, \"error_y\": {\"color\": \"#2a3f5f\"}, \"marker\": {\"line\": {\"color\": \"#E5ECF6\", \"width\": 0.5}}, \"type\": \"bar\"}], \"barpolar\": [{\"marker\": {\"line\": {\"color\": \"#E5ECF6\", \"width\": 0.5}}, \"type\": \"barpolar\"}], \"carpet\": [{\"aaxis\": {\"endlinecolor\": \"#2a3f5f\", \"gridcolor\": \"white\", \"linecolor\": \"white\", \"minorgridcolor\": \"white\", \"startlinecolor\": \"#2a3f5f\"}, \"baxis\": {\"endlinecolor\": \"#2a3f5f\", \"gridcolor\": \"white\", \"linecolor\": \"white\", \"minorgridcolor\": \"white\", \"startlinecolor\": \"#2a3f5f\"}, \"type\": \"carpet\"}], \"choropleth\": [{\"colorbar\": {\"outlinewidth\": 0, \"ticks\": \"\"}, \"type\": \"choropleth\"}], \"contour\": [{\"colorbar\": {\"outlinewidth\": 0, \"ticks\": \"\"}, \"colorscale\": [[0.0, \"#0d0887\"], [0.1111111111111111, \"#46039f\"], [0.2222222222222222, \"#7201a8\"], [0.3333333333333333, \"#9c179e\"], [0.4444444444444444, \"#bd3786\"], [0.5555555555555556, \"#d8576b\"], [0.6666666666666666, \"#ed7953\"], [0.7777777777777778, \"#fb9f3a\"], [0.8888888888888888, \"#fdca26\"], [1.0, \"#f0f921\"]], \"type\": \"contour\"}], \"contourcarpet\": [{\"colorbar\": {\"outlinewidth\": 0, \"ticks\": \"\"}, \"type\": \"contourcarpet\"}], \"heatmap\": [{\"colorbar\": {\"outlinewidth\": 0, \"ticks\": \"\"}, \"colorscale\": [[0.0, \"#0d0887\"], [0.1111111111111111, \"#46039f\"], [0.2222222222222222, \"#7201a8\"], [0.3333333333333333, \"#9c179e\"], [0.4444444444444444, \"#bd3786\"], [0.5555555555555556, \"#d8576b\"], [0.6666666666666666, \"#ed7953\"], [0.7777777777777778, \"#fb9f3a\"], [0.8888888888888888, \"#fdca26\"], [1.0, \"#f0f921\"]], \"type\": \"heatmap\"}], \"heatmapgl\": [{\"colorbar\": {\"outlinewidth\": 0, \"ticks\": \"\"}, \"colorscale\": [[0.0, \"#0d0887\"], [0.1111111111111111, \"#46039f\"], [0.2222222222222222, \"#7201a8\"], [0.3333333333333333, \"#9c179e\"], [0.4444444444444444, \"#bd3786\"], [0.5555555555555556, \"#d8576b\"], [0.6666666666666666, \"#ed7953\"], [0.7777777777777778, \"#fb9f3a\"], [0.8888888888888888, \"#fdca26\"], [1.0, \"#f0f921\"]], \"type\": \"heatmapgl\"}], \"histogram\": [{\"marker\": {\"colorbar\": {\"outlinewidth\": 0, \"ticks\": \"\"}}, \"type\": \"histogram\"}], \"histogram2d\": [{\"colorbar\": {\"outlinewidth\": 0, \"ticks\": \"\"}, \"colorscale\": [[0.0, \"#0d0887\"], [0.1111111111111111, \"#46039f\"], [0.2222222222222222, \"#7201a8\"], [0.3333333333333333, \"#9c179e\"], [0.4444444444444444, \"#bd3786\"], [0.5555555555555556, \"#d8576b\"], [0.6666666666666666, \"#ed7953\"], [0.7777777777777778, \"#fb9f3a\"], [0.8888888888888888, \"#fdca26\"], [1.0, \"#f0f921\"]], \"type\": \"histogram2d\"}], \"histogram2dcontour\": [{\"colorbar\": {\"outlinewidth\": 0, \"ticks\": \"\"}, \"colorscale\": [[0.0, \"#0d0887\"], [0.1111111111111111, \"#46039f\"], [0.2222222222222222, \"#7201a8\"], [0.3333333333333333, \"#9c179e\"], [0.4444444444444444, \"#bd3786\"], [0.5555555555555556, \"#d8576b\"], [0.6666666666666666, \"#ed7953\"], [0.7777777777777778, \"#fb9f3a\"], [0.8888888888888888, \"#fdca26\"], [1.0, \"#f0f921\"]], \"type\": \"histogram2dcontour\"}], \"mesh3d\": [{\"colorbar\": {\"outlinewidth\": 0, \"ticks\": \"\"}, \"type\": \"mesh3d\"}], \"parcoords\": [{\"line\": {\"colorbar\": {\"outlinewidth\": 0, \"ticks\": \"\"}}, \"type\": \"parcoords\"}], \"pie\": [{\"automargin\": true, \"type\": \"pie\"}], \"scatter\": [{\"marker\": {\"colorbar\": {\"outlinewidth\": 0, \"ticks\": \"\"}}, \"type\": \"scatter\"}], \"scatter3d\": [{\"line\": {\"colorbar\": {\"outlinewidth\": 0, \"ticks\": \"\"}}, \"marker\": {\"colorbar\": {\"outlinewidth\": 0, \"ticks\": \"\"}}, \"type\": \"scatter3d\"}], \"scattercarpet\": [{\"marker\": {\"colorbar\": {\"outlinewidth\": 0, \"ticks\": \"\"}}, \"type\": \"scattercarpet\"}], \"scattergeo\": [{\"marker\": {\"colorbar\": {\"outlinewidth\": 0, \"ticks\": \"\"}}, \"type\": \"scattergeo\"}], \"scattergl\": [{\"marker\": {\"colorbar\": {\"outlinewidth\": 0, \"ticks\": \"\"}}, \"type\": \"scattergl\"}], \"scattermapbox\": [{\"marker\": {\"colorbar\": {\"outlinewidth\": 0, \"ticks\": \"\"}}, \"type\": \"scattermapbox\"}], \"scatterpolar\": [{\"marker\": {\"colorbar\": {\"outlinewidth\": 0, \"ticks\": \"\"}}, \"type\": \"scatterpolar\"}], \"scatterpolargl\": [{\"marker\": {\"colorbar\": {\"outlinewidth\": 0, \"ticks\": \"\"}}, \"type\": \"scatterpolargl\"}], \"scatterternary\": [{\"marker\": {\"colorbar\": {\"outlinewidth\": 0, \"ticks\": \"\"}}, \"type\": \"scatterternary\"}], \"surface\": [{\"colorbar\": {\"outlinewidth\": 0, \"ticks\": \"\"}, \"colorscale\": [[0.0, \"#0d0887\"], [0.1111111111111111, \"#46039f\"], [0.2222222222222222, \"#7201a8\"], [0.3333333333333333, \"#9c179e\"], [0.4444444444444444, \"#bd3786\"], [0.5555555555555556, \"#d8576b\"], [0.6666666666666666, \"#ed7953\"], [0.7777777777777778, \"#fb9f3a\"], [0.8888888888888888, \"#fdca26\"], [1.0, \"#f0f921\"]], \"type\": \"surface\"}], \"table\": [{\"cells\": {\"fill\": {\"color\": \"#EBF0F8\"}, \"line\": {\"color\": \"white\"}}, \"header\": {\"fill\": {\"color\": \"#C8D4E3\"}, \"line\": {\"color\": \"white\"}}, \"type\": \"table\"}]}, \"layout\": {\"annotationdefaults\": {\"arrowcolor\": \"#2a3f5f\", \"arrowhead\": 0, \"arrowwidth\": 1}, \"coloraxis\": {\"colorbar\": {\"outlinewidth\": 0, \"ticks\": \"\"}}, \"colorscale\": {\"diverging\": [[0, \"#8e0152\"], [0.1, \"#c51b7d\"], [0.2, \"#de77ae\"], [0.3, \"#f1b6da\"], [0.4, \"#fde0ef\"], [0.5, \"#f7f7f7\"], [0.6, \"#e6f5d0\"], [0.7, \"#b8e186\"], [0.8, \"#7fbc41\"], [0.9, \"#4d9221\"], [1, \"#276419\"]], \"sequential\": [[0.0, \"#0d0887\"], [0.1111111111111111, \"#46039f\"], [0.2222222222222222, \"#7201a8\"], [0.3333333333333333, \"#9c179e\"], [0.4444444444444444, \"#bd3786\"], [0.5555555555555556, \"#d8576b\"], [0.6666666666666666, \"#ed7953\"], [0.7777777777777778, \"#fb9f3a\"], [0.8888888888888888, \"#fdca26\"], [1.0, \"#f0f921\"]], \"sequentialminus\": [[0.0, \"#0d0887\"], [0.1111111111111111, \"#46039f\"], [0.2222222222222222, \"#7201a8\"], [0.3333333333333333, \"#9c179e\"], [0.4444444444444444, \"#bd3786\"], [0.5555555555555556, \"#d8576b\"], [0.6666666666666666, \"#ed7953\"], [0.7777777777777778, \"#fb9f3a\"], [0.8888888888888888, \"#fdca26\"], [1.0, \"#f0f921\"]]}, \"colorway\": [\"#636efa\", \"#EF553B\", \"#00cc96\", \"#ab63fa\", \"#FFA15A\", \"#19d3f3\", \"#FF6692\", \"#B6E880\", \"#FF97FF\", \"#FECB52\"], \"font\": {\"color\": \"#2a3f5f\"}, \"geo\": {\"bgcolor\": \"white\", \"lakecolor\": \"white\", \"landcolor\": \"#E5ECF6\", \"showlakes\": true, \"showland\": true, \"subunitcolor\": \"white\"}, \"hoverlabel\": {\"align\": \"left\"}, \"hovermode\": \"closest\", \"mapbox\": {\"style\": \"light\"}, \"paper_bgcolor\": \"white\", \"plot_bgcolor\": \"#E5ECF6\", \"polar\": {\"angularaxis\": {\"gridcolor\": \"white\", \"linecolor\": \"white\", \"ticks\": \"\"}, \"bgcolor\": \"#E5ECF6\", \"radialaxis\": {\"gridcolor\": \"white\", \"linecolor\": \"white\", \"ticks\": \"\"}}, \"scene\": {\"xaxis\": {\"backgroundcolor\": \"#E5ECF6\", \"gridcolor\": \"white\", \"gridwidth\": 2, \"linecolor\": \"white\", \"showbackground\": true, \"ticks\": \"\", \"zerolinecolor\": \"white\"}, \"yaxis\": {\"backgroundcolor\": \"#E5ECF6\", \"gridcolor\": \"white\", \"gridwidth\": 2, \"linecolor\": \"white\", \"showbackground\": true, \"ticks\": \"\", \"zerolinecolor\": \"white\"}, \"zaxis\": {\"backgroundcolor\": \"#E5ECF6\", \"gridcolor\": \"white\", \"gridwidth\": 2, \"linecolor\": \"white\", \"showbackground\": true, \"ticks\": \"\", \"zerolinecolor\": \"white\"}}, \"shapedefaults\": {\"line\": {\"color\": \"#2a3f5f\"}}, \"ternary\": {\"aaxis\": {\"gridcolor\": \"white\", \"linecolor\": \"white\", \"ticks\": \"\"}, \"baxis\": {\"gridcolor\": \"white\", \"linecolor\": \"white\", \"ticks\": \"\"}, \"bgcolor\": \"#E5ECF6\", \"caxis\": {\"gridcolor\": \"white\", \"linecolor\": \"white\", \"ticks\": \"\"}}, \"title\": {\"x\": 0.05}, \"xaxis\": {\"automargin\": true, \"gridcolor\": \"white\", \"linecolor\": \"white\", \"ticks\": \"\", \"title\": {\"standoff\": 15}, \"zerolinecolor\": \"white\", \"zerolinewidth\": 2}, \"yaxis\": {\"automargin\": true, \"gridcolor\": \"white\", \"linecolor\": \"white\", \"ticks\": \"\", \"title\": {\"standoff\": 15}, \"zerolinecolor\": \"white\", \"zerolinewidth\": 2}}}, \"title\": {\"text\": \"Hyperparameter Importances\"}, \"xaxis\": {\"title\": {\"text\": \"Importance for Objective Value\"}}, \"yaxis\": {\"title\": {\"text\": \"Hyperparameter\"}}},\n",
              "                        {\"responsive\": true}\n",
              "                    ).then(function(){\n",
              "                            \n",
              "var gd = document.getElementById('c7452054-3158-47a5-b8c3-0e80819211ea');\n",
              "var x = new MutationObserver(function (mutations, observer) {{\n",
              "        var display = window.getComputedStyle(gd).display;\n",
              "        if (!display || display === 'none') {{\n",
              "            console.log([gd, 'removed!']);\n",
              "            Plotly.purge(gd);\n",
              "            observer.disconnect();\n",
              "        }}\n",
              "}});\n",
              "\n",
              "// Listen for the removal of the full notebook cells\n",
              "var notebookContainer = gd.closest('#notebook-container');\n",
              "if (notebookContainer) {{\n",
              "    x.observe(notebookContainer, {childList: true});\n",
              "}}\n",
              "\n",
              "// Listen for the clearing of the current output cell\n",
              "var outputEl = gd.closest('.output');\n",
              "if (outputEl) {{\n",
              "    x.observe(outputEl, {childList: true});\n",
              "}}\n",
              "\n",
              "                        })\n",
              "                };\n",
              "                \n",
              "            </script>\n",
              "        </div>\n",
              "</body>\n",
              "</html>"
            ]
          },
          "metadata": {
            "tags": []
          }
        }
      ]
    },
    {
      "cell_type": "markdown",
      "metadata": {
        "id": "p-wjlsfIIDOn"
      },
      "source": [
        "- 매 시도마다 감소한 loss 확인"
      ]
    },
    {
      "cell_type": "code",
      "metadata": {
        "colab": {
          "base_uri": "https://localhost:8080/",
          "height": 542
        },
        "id": "fMxYconfHTHk",
        "outputId": "db1692c5-b288-42ea-f8e8-bc532c6bb322"
      },
      "source": [
        "optuna.visualization.plot_optimization_history(study)"
      ],
      "execution_count": 93,
      "outputs": [
        {
          "output_type": "display_data",
          "data": {
            "text/html": [
              "<html>\n",
              "<head><meta charset=\"utf-8\" /></head>\n",
              "<body>\n",
              "    <div>\n",
              "            <script src=\"https://cdnjs.cloudflare.com/ajax/libs/mathjax/2.7.5/MathJax.js?config=TeX-AMS-MML_SVG\"></script><script type=\"text/javascript\">if (window.MathJax) {MathJax.Hub.Config({SVG: {font: \"STIX-Web\"}});}</script>\n",
              "                <script type=\"text/javascript\">window.PlotlyConfig = {MathJaxConfig: 'local'};</script>\n",
              "        <script src=\"https://cdn.plot.ly/plotly-latest.min.js\"></script>    \n",
              "            <div id=\"c129a0a5-6338-4da7-ab2a-7b80314ac5cc\" class=\"plotly-graph-div\" style=\"height:525px; width:100%;\"></div>\n",
              "            <script type=\"text/javascript\">\n",
              "                \n",
              "                    window.PLOTLYENV=window.PLOTLYENV || {};\n",
              "                    \n",
              "                if (document.getElementById(\"c129a0a5-6338-4da7-ab2a-7b80314ac5cc\")) {\n",
              "                    Plotly.newPlot(\n",
              "                        'c129a0a5-6338-4da7-ab2a-7b80314ac5cc',\n",
              "                        [{\"mode\": \"markers\", \"name\": \"Objective Value\", \"type\": \"scatter\", \"x\": [0, 1, 2, 3, 4, 5, 6, 7, 8, 9, 10, 11, 12, 13, 14, 15, 16, 17, 18, 19, 20, 21, 22, 23, 24, 25, 26, 27, 28, 29, 30, 31, 32, 33, 34, 35, 36, 37, 38, 39, 40, 41, 42, 43, 44, 45, 46, 47, 48, 49], \"y\": [1447.7516218662263, 616511.7695675492, 40678.7193377018, 26800.238151884078, 571.7373285293579, 30190.05439629555, 3730081.297617507, 514688.04540430306, 38210.03304767609, 37725.77298736572, 1759.3411299705506, 172064.02215510607, 16423.36423172951, 686.6381571769714, 1507.9939051628112, 521.1510699272155, 5388.870256996155, 567.6334931850433, 38489.117878198624, 7238.491327619553, 46145.50967360735, 576.6338548183442, 946.6816492080688, 1893.400101184845, 980029.7068140864, 752.4868625164032, 24758.846460437773, 594.462729215622, 82283.68787599802, 8639.456411504745, 2158.906233930588, 775.4408704280853, 892.1077358722687, 8877.915903043748, 575.2108092784881, 2272.7574201107027, 14530.777459812165, 29214.75135011673, 682243.8585225344, 21722.097652959823, 889.4838656425476, 671.3209767341614, 538.3127766132354, 18300.746984624864, 4274.620256900787, 2830.191252660751, 885.010772228241, 349129.5988797188, 25650.992575263976, 4073.2400126457214]}, {\"name\": \"Best Value\", \"type\": \"scatter\", \"x\": [0, 1, 2, 3, 4, 5, 6, 7, 8, 9, 10, 11, 12, 13, 14, 15, 16, 17, 18, 19, 20, 21, 22, 23, 24, 25, 26, 27, 28, 29, 30, 31, 32, 33, 34, 35, 36, 37, 38, 39, 40, 41, 42, 43, 44, 45, 46, 47, 48, 49], \"y\": [1447.7516218662263, 1447.7516218662263, 1447.7516218662263, 1447.7516218662263, 571.7373285293579, 571.7373285293579, 571.7373285293579, 571.7373285293579, 571.7373285293579, 571.7373285293579, 571.7373285293579, 571.7373285293579, 571.7373285293579, 571.7373285293579, 571.7373285293579, 521.1510699272155, 521.1510699272155, 521.1510699272155, 521.1510699272155, 521.1510699272155, 521.1510699272155, 521.1510699272155, 521.1510699272155, 521.1510699272155, 521.1510699272155, 521.1510699272155, 521.1510699272155, 521.1510699272155, 521.1510699272155, 521.1510699272155, 521.1510699272155, 521.1510699272155, 521.1510699272155, 521.1510699272155, 521.1510699272155, 521.1510699272155, 521.1510699272155, 521.1510699272155, 521.1510699272155, 521.1510699272155, 521.1510699272155, 521.1510699272155, 521.1510699272155, 521.1510699272155, 521.1510699272155, 521.1510699272155, 521.1510699272155, 521.1510699272155, 521.1510699272155, 521.1510699272155]}],\n",
              "                        {\"template\": {\"data\": {\"bar\": [{\"error_x\": {\"color\": \"#2a3f5f\"}, \"error_y\": {\"color\": \"#2a3f5f\"}, \"marker\": {\"line\": {\"color\": \"#E5ECF6\", \"width\": 0.5}}, \"type\": \"bar\"}], \"barpolar\": [{\"marker\": {\"line\": {\"color\": \"#E5ECF6\", \"width\": 0.5}}, \"type\": \"barpolar\"}], \"carpet\": [{\"aaxis\": {\"endlinecolor\": \"#2a3f5f\", \"gridcolor\": \"white\", \"linecolor\": \"white\", \"minorgridcolor\": \"white\", \"startlinecolor\": \"#2a3f5f\"}, \"baxis\": {\"endlinecolor\": \"#2a3f5f\", \"gridcolor\": \"white\", \"linecolor\": \"white\", \"minorgridcolor\": \"white\", \"startlinecolor\": \"#2a3f5f\"}, \"type\": \"carpet\"}], \"choropleth\": [{\"colorbar\": {\"outlinewidth\": 0, \"ticks\": \"\"}, \"type\": \"choropleth\"}], \"contour\": [{\"colorbar\": {\"outlinewidth\": 0, \"ticks\": \"\"}, \"colorscale\": [[0.0, \"#0d0887\"], [0.1111111111111111, \"#46039f\"], [0.2222222222222222, \"#7201a8\"], [0.3333333333333333, \"#9c179e\"], [0.4444444444444444, \"#bd3786\"], [0.5555555555555556, \"#d8576b\"], [0.6666666666666666, \"#ed7953\"], [0.7777777777777778, \"#fb9f3a\"], [0.8888888888888888, \"#fdca26\"], [1.0, \"#f0f921\"]], \"type\": \"contour\"}], \"contourcarpet\": [{\"colorbar\": {\"outlinewidth\": 0, \"ticks\": \"\"}, \"type\": \"contourcarpet\"}], \"heatmap\": [{\"colorbar\": {\"outlinewidth\": 0, \"ticks\": \"\"}, \"colorscale\": [[0.0, \"#0d0887\"], [0.1111111111111111, \"#46039f\"], [0.2222222222222222, \"#7201a8\"], [0.3333333333333333, \"#9c179e\"], [0.4444444444444444, \"#bd3786\"], [0.5555555555555556, \"#d8576b\"], [0.6666666666666666, \"#ed7953\"], [0.7777777777777778, \"#fb9f3a\"], [0.8888888888888888, \"#fdca26\"], [1.0, \"#f0f921\"]], \"type\": \"heatmap\"}], \"heatmapgl\": [{\"colorbar\": {\"outlinewidth\": 0, \"ticks\": \"\"}, \"colorscale\": [[0.0, \"#0d0887\"], [0.1111111111111111, \"#46039f\"], [0.2222222222222222, \"#7201a8\"], [0.3333333333333333, \"#9c179e\"], [0.4444444444444444, \"#bd3786\"], [0.5555555555555556, \"#d8576b\"], [0.6666666666666666, \"#ed7953\"], [0.7777777777777778, \"#fb9f3a\"], [0.8888888888888888, \"#fdca26\"], [1.0, \"#f0f921\"]], \"type\": \"heatmapgl\"}], \"histogram\": [{\"marker\": {\"colorbar\": {\"outlinewidth\": 0, \"ticks\": \"\"}}, \"type\": \"histogram\"}], \"histogram2d\": [{\"colorbar\": {\"outlinewidth\": 0, \"ticks\": \"\"}, \"colorscale\": [[0.0, \"#0d0887\"], [0.1111111111111111, \"#46039f\"], [0.2222222222222222, \"#7201a8\"], [0.3333333333333333, \"#9c179e\"], [0.4444444444444444, \"#bd3786\"], [0.5555555555555556, \"#d8576b\"], [0.6666666666666666, \"#ed7953\"], [0.7777777777777778, \"#fb9f3a\"], [0.8888888888888888, \"#fdca26\"], [1.0, \"#f0f921\"]], \"type\": \"histogram2d\"}], \"histogram2dcontour\": [{\"colorbar\": {\"outlinewidth\": 0, \"ticks\": \"\"}, \"colorscale\": [[0.0, \"#0d0887\"], [0.1111111111111111, \"#46039f\"], [0.2222222222222222, \"#7201a8\"], [0.3333333333333333, \"#9c179e\"], [0.4444444444444444, \"#bd3786\"], [0.5555555555555556, \"#d8576b\"], [0.6666666666666666, \"#ed7953\"], [0.7777777777777778, \"#fb9f3a\"], [0.8888888888888888, \"#fdca26\"], [1.0, \"#f0f921\"]], \"type\": \"histogram2dcontour\"}], \"mesh3d\": [{\"colorbar\": {\"outlinewidth\": 0, \"ticks\": \"\"}, \"type\": \"mesh3d\"}], \"parcoords\": [{\"line\": {\"colorbar\": {\"outlinewidth\": 0, \"ticks\": \"\"}}, \"type\": \"parcoords\"}], \"pie\": [{\"automargin\": true, \"type\": \"pie\"}], \"scatter\": [{\"marker\": {\"colorbar\": {\"outlinewidth\": 0, \"ticks\": \"\"}}, \"type\": \"scatter\"}], \"scatter3d\": [{\"line\": {\"colorbar\": {\"outlinewidth\": 0, \"ticks\": \"\"}}, \"marker\": {\"colorbar\": {\"outlinewidth\": 0, \"ticks\": \"\"}}, \"type\": \"scatter3d\"}], \"scattercarpet\": [{\"marker\": {\"colorbar\": {\"outlinewidth\": 0, \"ticks\": \"\"}}, \"type\": \"scattercarpet\"}], \"scattergeo\": [{\"marker\": {\"colorbar\": {\"outlinewidth\": 0, \"ticks\": \"\"}}, \"type\": \"scattergeo\"}], \"scattergl\": [{\"marker\": {\"colorbar\": {\"outlinewidth\": 0, \"ticks\": \"\"}}, \"type\": \"scattergl\"}], \"scattermapbox\": [{\"marker\": {\"colorbar\": {\"outlinewidth\": 0, \"ticks\": \"\"}}, \"type\": \"scattermapbox\"}], \"scatterpolar\": [{\"marker\": {\"colorbar\": {\"outlinewidth\": 0, \"ticks\": \"\"}}, \"type\": \"scatterpolar\"}], \"scatterpolargl\": [{\"marker\": {\"colorbar\": {\"outlinewidth\": 0, \"ticks\": \"\"}}, \"type\": \"scatterpolargl\"}], \"scatterternary\": [{\"marker\": {\"colorbar\": {\"outlinewidth\": 0, \"ticks\": \"\"}}, \"type\": \"scatterternary\"}], \"surface\": [{\"colorbar\": {\"outlinewidth\": 0, \"ticks\": \"\"}, \"colorscale\": [[0.0, \"#0d0887\"], [0.1111111111111111, \"#46039f\"], [0.2222222222222222, \"#7201a8\"], [0.3333333333333333, \"#9c179e\"], [0.4444444444444444, \"#bd3786\"], [0.5555555555555556, \"#d8576b\"], [0.6666666666666666, \"#ed7953\"], [0.7777777777777778, \"#fb9f3a\"], [0.8888888888888888, \"#fdca26\"], [1.0, \"#f0f921\"]], \"type\": \"surface\"}], \"table\": [{\"cells\": {\"fill\": {\"color\": \"#EBF0F8\"}, \"line\": {\"color\": \"white\"}}, \"header\": {\"fill\": {\"color\": \"#C8D4E3\"}, \"line\": {\"color\": \"white\"}}, \"type\": \"table\"}]}, \"layout\": {\"annotationdefaults\": {\"arrowcolor\": \"#2a3f5f\", \"arrowhead\": 0, \"arrowwidth\": 1}, \"coloraxis\": {\"colorbar\": {\"outlinewidth\": 0, \"ticks\": \"\"}}, \"colorscale\": {\"diverging\": [[0, \"#8e0152\"], [0.1, \"#c51b7d\"], [0.2, \"#de77ae\"], [0.3, \"#f1b6da\"], [0.4, \"#fde0ef\"], [0.5, \"#f7f7f7\"], [0.6, \"#e6f5d0\"], [0.7, \"#b8e186\"], [0.8, \"#7fbc41\"], [0.9, \"#4d9221\"], [1, \"#276419\"]], \"sequential\": [[0.0, \"#0d0887\"], [0.1111111111111111, \"#46039f\"], [0.2222222222222222, \"#7201a8\"], [0.3333333333333333, \"#9c179e\"], [0.4444444444444444, \"#bd3786\"], [0.5555555555555556, \"#d8576b\"], [0.6666666666666666, \"#ed7953\"], [0.7777777777777778, \"#fb9f3a\"], [0.8888888888888888, \"#fdca26\"], [1.0, \"#f0f921\"]], \"sequentialminus\": [[0.0, \"#0d0887\"], [0.1111111111111111, \"#46039f\"], [0.2222222222222222, \"#7201a8\"], [0.3333333333333333, \"#9c179e\"], [0.4444444444444444, \"#bd3786\"], [0.5555555555555556, \"#d8576b\"], [0.6666666666666666, \"#ed7953\"], [0.7777777777777778, \"#fb9f3a\"], [0.8888888888888888, \"#fdca26\"], [1.0, \"#f0f921\"]]}, \"colorway\": [\"#636efa\", \"#EF553B\", \"#00cc96\", \"#ab63fa\", \"#FFA15A\", \"#19d3f3\", \"#FF6692\", \"#B6E880\", \"#FF97FF\", \"#FECB52\"], \"font\": {\"color\": \"#2a3f5f\"}, \"geo\": {\"bgcolor\": \"white\", \"lakecolor\": \"white\", \"landcolor\": \"#E5ECF6\", \"showlakes\": true, \"showland\": true, \"subunitcolor\": \"white\"}, \"hoverlabel\": {\"align\": \"left\"}, \"hovermode\": \"closest\", \"mapbox\": {\"style\": \"light\"}, \"paper_bgcolor\": \"white\", \"plot_bgcolor\": \"#E5ECF6\", \"polar\": {\"angularaxis\": {\"gridcolor\": \"white\", \"linecolor\": \"white\", \"ticks\": \"\"}, \"bgcolor\": \"#E5ECF6\", \"radialaxis\": {\"gridcolor\": \"white\", \"linecolor\": \"white\", \"ticks\": \"\"}}, \"scene\": {\"xaxis\": {\"backgroundcolor\": \"#E5ECF6\", \"gridcolor\": \"white\", \"gridwidth\": 2, \"linecolor\": \"white\", \"showbackground\": true, \"ticks\": \"\", \"zerolinecolor\": \"white\"}, \"yaxis\": {\"backgroundcolor\": \"#E5ECF6\", \"gridcolor\": \"white\", \"gridwidth\": 2, \"linecolor\": \"white\", \"showbackground\": true, \"ticks\": \"\", \"zerolinecolor\": \"white\"}, \"zaxis\": {\"backgroundcolor\": \"#E5ECF6\", \"gridcolor\": \"white\", \"gridwidth\": 2, \"linecolor\": \"white\", \"showbackground\": true, \"ticks\": \"\", \"zerolinecolor\": \"white\"}}, \"shapedefaults\": {\"line\": {\"color\": \"#2a3f5f\"}}, \"ternary\": {\"aaxis\": {\"gridcolor\": \"white\", \"linecolor\": \"white\", \"ticks\": \"\"}, \"baxis\": {\"gridcolor\": \"white\", \"linecolor\": \"white\", \"ticks\": \"\"}, \"bgcolor\": \"#E5ECF6\", \"caxis\": {\"gridcolor\": \"white\", \"linecolor\": \"white\", \"ticks\": \"\"}}, \"title\": {\"x\": 0.05}, \"xaxis\": {\"automargin\": true, \"gridcolor\": \"white\", \"linecolor\": \"white\", \"ticks\": \"\", \"title\": {\"standoff\": 15}, \"zerolinecolor\": \"white\", \"zerolinewidth\": 2}, \"yaxis\": {\"automargin\": true, \"gridcolor\": \"white\", \"linecolor\": \"white\", \"ticks\": \"\", \"title\": {\"standoff\": 15}, \"zerolinecolor\": \"white\", \"zerolinewidth\": 2}}}, \"title\": {\"text\": \"Optimization History Plot\"}, \"xaxis\": {\"title\": {\"text\": \"#Trials\"}}, \"yaxis\": {\"title\": {\"text\": \"Objective Value\"}}},\n",
              "                        {\"responsive\": true}\n",
              "                    ).then(function(){\n",
              "                            \n",
              "var gd = document.getElementById('c129a0a5-6338-4da7-ab2a-7b80314ac5cc');\n",
              "var x = new MutationObserver(function (mutations, observer) {{\n",
              "        var display = window.getComputedStyle(gd).display;\n",
              "        if (!display || display === 'none') {{\n",
              "            console.log([gd, 'removed!']);\n",
              "            Plotly.purge(gd);\n",
              "            observer.disconnect();\n",
              "        }}\n",
              "}});\n",
              "\n",
              "// Listen for the removal of the full notebook cells\n",
              "var notebookContainer = gd.closest('#notebook-container');\n",
              "if (notebookContainer) {{\n",
              "    x.observe(notebookContainer, {childList: true});\n",
              "}}\n",
              "\n",
              "// Listen for the clearing of the current output cell\n",
              "var outputEl = gd.closest('.output');\n",
              "if (outputEl) {{\n",
              "    x.observe(outputEl, {childList: true});\n",
              "}}\n",
              "\n",
              "                        })\n",
              "                };\n",
              "                \n",
              "            </script>\n",
              "        </div>\n",
              "</body>\n",
              "</html>"
            ]
          },
          "metadata": {
            "tags": []
          }
        }
      ]
    },
    {
      "cell_type": "code",
      "metadata": {
        "colab": {
          "base_uri": "https://localhost:8080/"
        },
        "id": "_KMMgmbvK0CA",
        "outputId": "2244a2e7-8b7e-4a1f-ae7b-298fb6bdba20"
      },
      "source": [
        "xgb_params=study.best_trial.params\n",
        "xgb_params"
      ],
      "execution_count": 94,
      "outputs": [
        {
          "output_type": "execute_result",
          "data": {
            "text/plain": [
              "{'colsample_bytree': 0.9055025740780626,\n",
              " 'learning_rate': 0.028228964086860545,\n",
              " 'max_depth': 9,\n",
              " 'min_child_weight': 55,\n",
              " 'n_estimators': 552,\n",
              " 'subsample': 0.8872917860523398}"
            ]
          },
          "metadata": {
            "tags": []
          },
          "execution_count": 94
        }
      ]
    },
    {
      "cell_type": "code",
      "metadata": {
        "colab": {
          "base_uri": "https://localhost:8080/"
        },
        "id": "raINx-C1J1X0",
        "outputId": "26cae0f4-a0e3-4c1a-ef3b-64573de70074"
      },
      "source": [
        "xgb = XGBRegressor(**xgb_params)\n",
        "xgb.fit(X_train_scaled, Y_train_scaled)\n",
        "Y_train_pred = xgb.predict(X_train_scaled)\n",
        "Y_test_pred = xgb.predict(X_test_scaled)"
      ],
      "execution_count": 95,
      "outputs": [
        {
          "output_type": "stream",
          "text": [
            "[14:02:45] WARNING: /workspace/src/objective/regression_obj.cu:152: reg:linear is now deprecated in favor of reg:squarederror.\n"
          ],
          "name": "stdout"
        }
      ]
    },
    {
      "cell_type": "code",
      "metadata": {
        "colab": {
          "base_uri": "https://localhost:8080/",
          "height": 110
        },
        "id": "5s6zEOXJMffu",
        "outputId": "4054c9e7-30db-483c-b540-209a62911efd"
      },
      "source": [
        "Score_xgb, Residual_tr, Residual_te = evaluation_trte(Y_train_scaled, Y_train_pred, Y_test_scaled, Y_test_pred, graph_on=False)\n",
        "\n",
        "display(Score_xgb)"
      ],
      "execution_count": 96,
      "outputs": [
        {
          "output_type": "display_data",
          "data": {
            "text/html": [
              "<div>\n",
              "<style scoped>\n",
              "    .dataframe tbody tr th:only-of-type {\n",
              "        vertical-align: middle;\n",
              "    }\n",
              "\n",
              "    .dataframe tbody tr th {\n",
              "        vertical-align: top;\n",
              "    }\n",
              "\n",
              "    .dataframe thead th {\n",
              "        text-align: right;\n",
              "    }\n",
              "</style>\n",
              "<table border=\"1\" class=\"dataframe\">\n",
              "  <thead>\n",
              "    <tr style=\"text-align: right;\">\n",
              "      <th></th>\n",
              "      <th>MAE</th>\n",
              "      <th>MSE</th>\n",
              "      <th>MAPE</th>\n",
              "    </tr>\n",
              "  </thead>\n",
              "  <tbody>\n",
              "    <tr>\n",
              "      <th>Train</th>\n",
              "      <td>84.877042</td>\n",
              "      <td>65843.994752</td>\n",
              "      <td>1.119865</td>\n",
              "    </tr>\n",
              "    <tr>\n",
              "      <th>Test</th>\n",
              "      <td>120.761182</td>\n",
              "      <td>17667.924958</td>\n",
              "      <td>2.874562</td>\n",
              "    </tr>\n",
              "  </tbody>\n",
              "</table>\n",
              "</div>"
            ],
            "text/plain": [
              "              MAE           MSE      MAPE\n",
              "Train   84.877042  65843.994752  1.119865\n",
              "Test   120.761182  17667.924958  2.874562"
            ]
          },
          "metadata": {
            "tags": []
          }
        }
      ]
    },
    {
      "cell_type": "code",
      "metadata": {
        "colab": {
          "base_uri": "https://localhost:8080/",
          "height": 667
        },
        "id": "wjxn-Yw8WwXF",
        "outputId": "6004eff3-c898-4818-a1a5-850f22dc3311"
      },
      "source": [
        "pr=np.append(Y_train_pred,Y_test_pred)\n",
        "sc=pd.concat([Y_train_scaled,Y_test_scaled])\n",
        "\n",
        "f, ax = plt.subplots(figsize=(10, 5))\n",
        "\n",
        "sns.lineplot(data=sc.values[-100:].flatten(),ax=ax,label=\"실제값\")\n",
        "sns.lineplot(data=pr[-100:],ax=ax,label=\"예측값\")\n",
        "plt.title('19/10/21 ~ 19/11/29', fontsize=15)\n",
        "\n",
        "\n",
        "\n",
        "f, ax = plt.subplots(figsize=(10, 5))\n",
        "\n",
        "plt.title('19/11/25 ~ 19/11/29 - test', fontsize=15)\n",
        "sns.lineplot(data=Y_test_scaled.values.flatten(),ax=ax,label=\"실제값\")\n",
        "sns.lineplot(data=Y_test_pred,ax=ax,label=\"예측값\")\n",
        "\n",
        "plt.legend()\n",
        "plt.show()\n"
      ],
      "execution_count": 185,
      "outputs": [
        {
          "output_type": "display_data",
          "data": {
            "image/png": "[encoded data removed]",
            "text/plain": [
              "<Figure size 720x360 with 1 Axes>"
            ]
          },
          "metadata": {
            "tags": []
          }
        },
        {
          "output_type": "display_data",
          "data": {
            "image/png": "[encoded data removed]",
            "text/plain": [
              "<Figure size 720x360 with 1 Axes>"
            ]
          },
          "metadata": {
            "tags": []
          }
        }
      ]
    },
    {
      "cell_type": "markdown",
      "metadata": {
        "id": "YW3x9Amdb_7L"
      },
      "source": [
        "GRU는 기존 LSTM에 비해 더 간단한 구조를 가지고 있습니다. 그리고 마지막 출력값에 활성화함수를 적용하지 않습니다. 성능 면에서는 LSTM과 비교해서 우월하다고 할 수 없지만 학습할 파라미터가 더 적은 것이 장점이라고 할 수 있습니다."
      ]
    },
    {
      "cell_type": "markdown",
      "metadata": {
        "id": "XvVSQVpldlPv"
      },
      "source": [
        "- sequence size"
      ]
    },
    {
      "cell_type": "code",
      "metadata": {
        "colab": {
          "base_uri": "https://localhost:8080/",
          "height": 745
        },
        "id": "yW9IFzqQngBp",
        "outputId": "d425aaff-dd5a-479d-a106-8407f8dbb859"
      },
      "source": [
        "Score = dict()\n",
        "epoch = 20\n",
        "verbose = 0\n",
        "dropout_ratio = 0\n",
        "batch_size = 10\n",
        "\n",
        "seqsize_list = [i for i in range(1, 5, 1)]\n",
        "\n",
        "for i in tqdm(seqsize_list):\n",
        "    sequence = i\n",
        "\n",
        "    ## X / Y Split\n",
        "    X_train, Y_train = [], []\n",
        "    for index in range(len(X_train_scaled) - sequence):\n",
        "        X_train.append(np.array(X_train_scaled[index: index + sequence]))\n",
        "        Y_train.append(np.ravel(Y_train_scaled[index + sequence:index + sequence + 1]))\n",
        "    X_train, Y_train = np.array(X_train), np.array(Y_train) # sequence 크기의 데이터\n",
        "    X_test, Y_test = [], []\n",
        "    for index in range(len(X_test_scaled) - sequence):\n",
        "        X_test.append(np.array(X_test_scaled[index: index + sequence])) \n",
        "        Y_test.append(np.ravel(Y_test_scaled[index + sequence:index + sequence + 1]))  \n",
        "    X_test, Y_test = np.array(X_test), np.array(Y_test) # sequence 크기의 데이터\n",
        "\n",
        "    ## Retype and Reshape\n",
        "    X_train = X_train.reshape(X_train.shape[0], sequence, -1)\n",
        "    X_test = X_test.reshape(X_test.shape[0], sequence, -1)\n",
        "    print('X_train:', X_train.shape, 'Y_train:', Y_train.shape)\n",
        "    print('X_test:', X_test.shape, 'Y_test:', Y_test.shape)\n",
        "\n",
        "    # GRU\n",
        "    model = Sequential()\n",
        "    model.add(GRU(128, input_shape=(X_train.shape[1], X_train.shape[2]), return_sequences=True, activation='relu')) #sequence, 열 갯수\n",
        "    model.add(Dropout(dropout_ratio)) \n",
        "    model.add(GRU(256, return_sequences=True, activation=\"relu\"))\n",
        "    model.add(Dropout(dropout_ratio)) \n",
        "    model.add(GRU(128, return_sequences=True, activation=\"relu\"))\n",
        "    model.add(Dropout(dropout_ratio)) \n",
        "    model.add(GRU(64, return_sequences=False, activation=\"relu\"))\n",
        "    model.add(Dropout(dropout_ratio)) \n",
        "    model.add(Dense(1))\n",
        "    model.compile(optimizer='adam', loss='mean_squared_error')\n",
        "    # model.summary()\n",
        "    model_fit = model.fit(X_train, Y_train, \n",
        "                          batch_size=batch_size, epochs=epoch,\n",
        "                          verbose=verbose)\n",
        "\n",
        "    # prediction\n",
        "    Y_train_pred = model.predict(X_train)\n",
        "    Y_test_pred = model.predict(X_test)\n",
        "\n",
        "    # evaluation\n",
        "    result = model.evaluate(X_test, Y_test_pred)\n",
        "\n",
        "    Score_GRU, Residual_tr, Residual_te = evaluation_trte(pd.DataFrame(Y_train), Y_train_pred.flatten(), \n",
        "                                                          pd.DataFrame(Y_test), Y_test_pred.flatten(), graph_on=False)\n",
        "    display(Score_GRU)\n",
        "    Score[str(sequence)] = Score_GRU"
      ],
      "execution_count": 189,
      "outputs": [
        {
          "output_type": "stream",
          "text": [
            "\n",
            "  0%|          | 0/4 [00:00<?, ?it/s]\u001b[A"
          ],
          "name": "stderr"
        },
        {
          "output_type": "stream",
          "text": [
            "X_train: (1201, 1, 22) Y_train: (1201, 1)\n",
            "X_test: (4, 1, 22) Y_test: (4, 1)\n",
            "WARNING:tensorflow:6 out of the last 6 calls to <function Model.make_test_function.<locals>.test_function at 0x7fadc53788c0> triggered tf.function retracing. Tracing is expensive and the excessive number of tracings could be due to (1) creating @tf.function repeatedly in a loop, (2) passing tensors with different shapes, (3) passing Python objects instead of tensors. For (1), please define your @tf.function outside of the loop. For (2), @tf.function has experimental_relax_shapes=True option that relaxes argument shapes that can avoid unnecessary retracing. For (3), please refer to https://www.tensorflow.org/guide/function#controlling_retracing and https://www.tensorflow.org/api_docs/python/tf/function for  more details.\n",
            "1/1 [==============================] - 2s 2s/step - loss: 1.4901e-08\n"
          ],
          "name": "stdout"
        },
        {
          "output_type": "display_data",
          "data": {
            "text/html": [
              "<div>\n",
              "<style scoped>\n",
              "    .dataframe tbody tr th:only-of-type {\n",
              "        vertical-align: middle;\n",
              "    }\n",
              "\n",
              "    .dataframe tbody tr th {\n",
              "        vertical-align: top;\n",
              "    }\n",
              "\n",
              "    .dataframe thead th {\n",
              "        text-align: right;\n",
              "    }\n",
              "</style>\n",
              "<table border=\"1\" class=\"dataframe\">\n",
              "  <thead>\n",
              "    <tr style=\"text-align: right;\">\n",
              "      <th></th>\n",
              "      <th>MAE</th>\n",
              "      <th>MSE</th>\n",
              "      <th>MAPE</th>\n",
              "    </tr>\n",
              "  </thead>\n",
              "  <tbody>\n",
              "    <tr>\n",
              "      <th>Train</th>\n",
              "      <td>223.208810</td>\n",
              "      <td>161073.122542</td>\n",
              "      <td>4.024726</td>\n",
              "    </tr>\n",
              "    <tr>\n",
              "      <th>Test</th>\n",
              "      <td>332.567322</td>\n",
              "      <td>125918.068662</td>\n",
              "      <td>7.785035</td>\n",
              "    </tr>\n",
              "  </tbody>\n",
              "</table>\n",
              "</div>"
            ],
            "text/plain": [
              "              MAE            MSE      MAPE\n",
              "Train  223.208810  161073.122542  4.024726\n",
              "Test   332.567322  125918.068662  7.785035"
            ]
          },
          "metadata": {
            "tags": []
          }
        },
        {
          "output_type": "stream",
          "text": [
            "\n",
            " 25%|██▌       | 1/4 [00:25<01:16, 25.49s/it]\u001b[A"
          ],
          "name": "stderr"
        },
        {
          "output_type": "stream",
          "text": [
            "X_train: (1200, 2, 22) Y_train: (1200, 1)\n",
            "X_test: (3, 2, 22) Y_test: (3, 1)\n",
            "1/1 [==============================] - 2s 2s/step - loss: 1.5895e-07\n"
          ],
          "name": "stdout"
        },
        {
          "output_type": "display_data",
          "data": {
            "text/html": [
              "<div>\n",
              "<style scoped>\n",
              "    .dataframe tbody tr th:only-of-type {\n",
              "        vertical-align: middle;\n",
              "    }\n",
              "\n",
              "    .dataframe tbody tr th {\n",
              "        vertical-align: top;\n",
              "    }\n",
              "\n",
              "    .dataframe thead th {\n",
              "        text-align: right;\n",
              "    }\n",
              "</style>\n",
              "<table border=\"1\" class=\"dataframe\">\n",
              "  <thead>\n",
              "    <tr style=\"text-align: right;\">\n",
              "      <th></th>\n",
              "      <th>MAE</th>\n",
              "      <th>MSE</th>\n",
              "      <th>MAPE</th>\n",
              "    </tr>\n",
              "  </thead>\n",
              "  <tbody>\n",
              "    <tr>\n",
              "      <th>Train</th>\n",
              "      <td>271.548482</td>\n",
              "      <td>224158.971824</td>\n",
              "      <td>5.030333</td>\n",
              "    </tr>\n",
              "    <tr>\n",
              "      <th>Test</th>\n",
              "      <td>133.128418</td>\n",
              "      <td>25380.207933</td>\n",
              "      <td>3.145058</td>\n",
              "    </tr>\n",
              "  </tbody>\n",
              "</table>\n",
              "</div>"
            ],
            "text/plain": [
              "              MAE            MSE      MAPE\n",
              "Train  271.548482  224158.971824  5.030333\n",
              "Test   133.128418   25380.207933  3.145058"
            ]
          },
          "metadata": {
            "tags": []
          }
        },
        {
          "output_type": "stream",
          "text": [
            "\n",
            " 50%|█████     | 2/4 [00:52<00:52, 26.06s/it]\u001b[A"
          ],
          "name": "stderr"
        },
        {
          "output_type": "stream",
          "text": [
            "X_train: (1199, 3, 22) Y_train: (1199, 1)\n",
            "X_test: (2, 3, 22) Y_test: (2, 1)\n",
            "1/1 [==============================] - 2s 2s/step - loss: 2.9802e-08\n"
          ],
          "name": "stdout"
        },
        {
          "output_type": "display_data",
          "data": {
            "text/html": [
              "<div>\n",
              "<style scoped>\n",
              "    .dataframe tbody tr th:only-of-type {\n",
              "        vertical-align: middle;\n",
              "    }\n",
              "\n",
              "    .dataframe tbody tr th {\n",
              "        vertical-align: top;\n",
              "    }\n",
              "\n",
              "    .dataframe thead th {\n",
              "        text-align: right;\n",
              "    }\n",
              "</style>\n",
              "<table border=\"1\" class=\"dataframe\">\n",
              "  <thead>\n",
              "    <tr style=\"text-align: right;\">\n",
              "      <th></th>\n",
              "      <th>MAE</th>\n",
              "      <th>MSE</th>\n",
              "      <th>MAPE</th>\n",
              "    </tr>\n",
              "  </thead>\n",
              "  <tbody>\n",
              "    <tr>\n",
              "      <th>Train</th>\n",
              "      <td>271.514756</td>\n",
              "      <td>232129.708830</td>\n",
              "      <td>4.658365</td>\n",
              "    </tr>\n",
              "    <tr>\n",
              "      <th>Test</th>\n",
              "      <td>277.448242</td>\n",
              "      <td>83676.046396</td>\n",
              "      <td>6.645856</td>\n",
              "    </tr>\n",
              "  </tbody>\n",
              "</table>\n",
              "</div>"
            ],
            "text/plain": [
              "              MAE            MSE      MAPE\n",
              "Train  271.514756  232129.708830  4.658365\n",
              "Test   277.448242   83676.046396  6.645856"
            ]
          },
          "metadata": {
            "tags": []
          }
        },
        {
          "output_type": "stream",
          "text": [
            "\n",
            " 75%|███████▌  | 3/4 [01:32<00:30, 30.20s/it]\u001b[A"
          ],
          "name": "stderr"
        },
        {
          "output_type": "stream",
          "text": [
            "X_train: (1198, 4, 22) Y_train: (1198, 1)\n",
            "X_test: (1, 4, 22) Y_test: (1, 1)\n",
            "1/1 [==============================] - 2s 2s/step - loss: 0.0000e+00\n"
          ],
          "name": "stdout"
        },
        {
          "output_type": "display_data",
          "data": {
            "text/html": [
              "<div>\n",
              "<style scoped>\n",
              "    .dataframe tbody tr th:only-of-type {\n",
              "        vertical-align: middle;\n",
              "    }\n",
              "\n",
              "    .dataframe tbody tr th {\n",
              "        vertical-align: top;\n",
              "    }\n",
              "\n",
              "    .dataframe thead th {\n",
              "        text-align: right;\n",
              "    }\n",
              "</style>\n",
              "<table border=\"1\" class=\"dataframe\">\n",
              "  <thead>\n",
              "    <tr style=\"text-align: right;\">\n",
              "      <th></th>\n",
              "      <th>MAE</th>\n",
              "      <th>MSE</th>\n",
              "      <th>MAPE</th>\n",
              "    </tr>\n",
              "  </thead>\n",
              "  <tbody>\n",
              "    <tr>\n",
              "      <th>Train</th>\n",
              "      <td>335.176301</td>\n",
              "      <td>306703.626111</td>\n",
              "      <td>6.140226</td>\n",
              "    </tr>\n",
              "    <tr>\n",
              "      <th>Test</th>\n",
              "      <td>124.602051</td>\n",
              "      <td>15525.671059</td>\n",
              "      <td>3.069016</td>\n",
              "    </tr>\n",
              "  </tbody>\n",
              "</table>\n",
              "</div>"
            ],
            "text/plain": [
              "              MAE            MSE      MAPE\n",
              "Train  335.176301  306703.626111  6.140226\n",
              "Test   124.602051   15525.671059  3.069016"
            ]
          },
          "metadata": {
            "tags": []
          }
        },
        {
          "output_type": "stream",
          "text": [
            "\n",
            "100%|██████████| 4/4 [02:17<00:00, 34.35s/it]\n"
          ],
          "name": "stderr"
        }
      ]
    },
    {
      "cell_type": "code",
      "metadata": {
        "colab": {
          "base_uri": "https://localhost:8080/",
          "height": 270
        },
        "id": "7EUibBF7zUx1",
        "outputId": "d6f943f0-e004-40dd-cbac-5548c38a934c"
      },
      "source": [
        "# Performance plot by sequence length\n",
        "seq_test = pd.DataFrame()\n",
        "for key, val in Score.items():\n",
        "    seq_test = pd.concat([seq_test, val.iloc[1,:].T], axis=1)\n",
        "\n",
        "seq_test = seq_test.T\n",
        "seq_test.index = seqsize_list\n",
        "seq_test['MSE'].plot(figsize=(12,4))\n",
        "plt.show() #4"
      ],
      "execution_count": 190,
      "outputs": [
        {
          "output_type": "display_data",
          "data": {
            "image/png": "[encoded data removed]",
            "text/plain": [
              "<Figure size 864x288 with 1 Axes>"
            ]
          },
          "metadata": {
            "tags": []
          }
        }
      ]
    },
    {
      "cell_type": "code",
      "metadata": {
        "colab": {
          "base_uri": "https://localhost:8080/"
        },
        "id": "k7hvIWiyzvH2",
        "outputId": "678ccae9-237e-4e42-caf2-f3316dbba5b1"
      },
      "source": [
        "sequence = 4\n",
        "epoch = 20\n",
        "verbose = 0\n",
        "dropout_ratio = 0\n",
        "\n",
        "\n",
        "Score = dict()\n",
        "batchsize_list = [i for i in range(5, 50, 5)]\n",
        "for i in tqdm(batchsize_list):\n",
        "    batch_size = i\n",
        "\n",
        "    ## X / Y Split\n",
        "    X_train, Y_train = [], []\n",
        "    for index in range(len(X_train_scaled) - sequence):\n",
        "        X_train.append(np.array(X_train_scaled[index: index + sequence]))\n",
        "        Y_train.append(np.ravel(Y_train_scaled[index + sequence:index + sequence + 1]))\n",
        "    X_train, Y_train = np.array(X_train), np.array(Y_train)\n",
        "    X_test, Y_test = [], []\n",
        "    for index in range(len(X_test_scaled) - sequence):\n",
        "        X_test.append(np.array(X_test_scaled[index: index + sequence]))\n",
        "        Y_test.append(np.ravel(Y_test_scaled[index + sequence:index + sequence + 1]))  \n",
        "    X_test, Y_test = np.array(X_test), np.array(Y_test) \n",
        "\n",
        "    ## Retype and Reshape\n",
        "    X_train = X_train.reshape(X_train.shape[0], sequence, -1)\n",
        "    X_test = X_test.reshape(X_test.shape[0], sequence, -1)\n",
        "    print('X_train:', X_train.shape, 'Y_train:', Y_train.shape)\n",
        "    print('X_test:', X_test.shape, 'Y_test:', Y_test.shape)\n",
        "\n",
        "    # GRU\n",
        "    model = Sequential()\n",
        "    model.add(GRU(128, input_shape=(X_train.shape[1], X_train.shape[2]), return_sequences=True, activation='relu'))\n",
        "    model.add(Dropout(dropout_ratio)) \n",
        "    model.add(GRU(256, return_sequences=True, activation=\"relu\"))\n",
        "    model.add(Dropout(dropout_ratio)) \n",
        "    model.add(GRU(128, return_sequences=True, activation=\"relu\"))\n",
        "    model.add(Dropout(dropout_ratio)) \n",
        "    model.add(GRU(64, return_sequences=False, activation=\"relu\"))\n",
        "    model.add(Dropout(dropout_ratio)) \n",
        "    model.add(Dense(1))\n",
        "    model.compile(optimizer='adam', loss='mean_squared_error')\n",
        "    # model.summary()\n",
        "    model_fit = model.fit(X_train, Y_train, \n",
        "                          batch_size=batch_size, epochs=epoch,\n",
        "                          verbose=verbose)\n",
        "\n",
        "    # plt.plot(pd.DataFrame(model_fit.history))\n",
        "    # plt.grid(True)\n",
        "    # plt.show()\n",
        "\n",
        "    # prediction\n",
        "    Y_train_pred = model.predict(X_train)\n",
        "    Y_test_pred = model.predict(X_test)\n",
        "\n",
        "    # evaluation\n",
        "    result = model.evaluate(X_test, Y_test_pred)\n",
        "    Score_GRU, Residual_tr, Residual_te = evaluation_trte(pd.DataFrame(Y_train), Y_train_pred.flatten(), \n",
        "                                                          pd.DataFrame(Y_test), Y_test_pred.flatten(), graph_on=False)\n",
        "                                                          \n",
        "    Score[str(batch_size)] = Score_GRU\n"
      ],
      "execution_count": null,
      "outputs": [
        {
          "output_type": "stream",
          "text": [
            "\n",
            "\n",
            "  0%|          | 0/9 [00:00<?, ?it/s]\u001b[A\u001b[A"
          ],
          "name": "stderr"
        },
        {
          "output_type": "stream",
          "text": [
            "X_train: (1198, 4, 22) Y_train: (1198, 1)\n",
            "X_test: (1, 4, 22) Y_test: (1, 1)\n",
            "1/1 [==============================] - 2s 2s/step - loss: 0.0000e+00\n"
          ],
          "name": "stdout"
        },
        {
          "output_type": "stream",
          "text": [
            "\n",
            "\n",
            " 11%|█         | 1/9 [01:11<09:30, 71.37s/it]\u001b[A\u001b[A"
          ],
          "name": "stderr"
        },
        {
          "output_type": "stream",
          "text": [
            "X_train: (1198, 4, 22) Y_train: (1198, 1)\n",
            "X_test: (1, 4, 22) Y_test: (1, 1)\n",
            "1/1 [==============================] - 2s 2s/step - loss: 0.0000e+00\n"
          ],
          "name": "stdout"
        },
        {
          "output_type": "stream",
          "text": [
            "\n",
            "\n",
            " 22%|██▏       | 2/9 [01:55<07:23, 63.32s/it]\u001b[A\u001b[A"
          ],
          "name": "stderr"
        },
        {
          "output_type": "stream",
          "text": [
            "X_train: (1198, 4, 22) Y_train: (1198, 1)\n",
            "X_test: (1, 4, 22) Y_test: (1, 1)\n"
          ],
          "name": "stdout"
        }
      ]
    },
    {
      "cell_type": "code",
      "metadata": {
        "id": "i1Ae7PtP0DDn"
      },
      "source": [
        "# Performance plot by sequence length\n",
        "seq_test = pd.DataFrame()\n",
        "for key, val in Score.items():\n",
        "    seq_test = pd.concat([seq_test, val.iloc[1,:].T], axis=1)\n",
        "\n",
        "seq_test = seq_test.T\n",
        "seq_test.index = batchsize_list\n",
        "seq_test['MSE'].plot(figsize=(12,4))\n",
        "plt.show() #35"
      ],
      "execution_count": null,
      "outputs": []
    }
  ]
}